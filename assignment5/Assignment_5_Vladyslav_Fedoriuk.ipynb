{
 "cells": [
  {
   "cell_type": "markdown",
   "metadata": {},
   "source": [
    "When exploring a large set of documents -- such as Wikipedia, news articles, StackOverflow, etc. -- it can be useful to get a list of related material. To find relevant documents you typically\n",
    "* Decide on a notion of similarity\n",
    "* Find the documents that are most similar \n",
    "\n",
    "In the assignment you will\n",
    "* Gain intuition for different notions of similarity and practice finding similar documents. \n",
    "* Explore the tradeoffs with representing documents using raw word counts and TF-IDF\n",
    "* Explore the behavior of different distance metrics by looking at the Wikipedia pages most similar to President Obama’s page."
   ]
  },
  {
   "cell_type": "code",
   "execution_count": 1,
   "metadata": {
    "jupyter": {
     "outputs_hidden": false
    }
   },
   "outputs": [],
   "source": [
    "import matplotlib.pyplot as plt\n",
    "import numpy as np\n",
    "import pandas as pd\n",
    "%matplotlib inline"
   ]
  },
  {
   "cell_type": "markdown",
   "metadata": {},
   "source": [
    "## Load Wikipedia dataset"
   ]
  },
  {
   "cell_type": "markdown",
   "metadata": {},
   "source": [
    "We will be using the dataset of abridged Wikipedia pages. Each element of the dataset consists of a link to the wikipedia article, the name of the person, and the text of the article (in lowercase).  "
   ]
  },
  {
   "cell_type": "code",
   "execution_count": 2,
   "metadata": {
    "jupyter": {
     "outputs_hidden": false
    }
   },
   "outputs": [
    {
     "data": {
      "text/html": [
       "<div>\n",
       "<style scoped>\n",
       "    .dataframe tbody tr th:only-of-type {\n",
       "        vertical-align: middle;\n",
       "    }\n",
       "\n",
       "    .dataframe tbody tr th {\n",
       "        vertical-align: top;\n",
       "    }\n",
       "\n",
       "    .dataframe thead th {\n",
       "        text-align: right;\n",
       "    }\n",
       "</style>\n",
       "<table border=\"1\" class=\"dataframe\">\n",
       "  <thead>\n",
       "    <tr style=\"text-align: right;\">\n",
       "      <th></th>\n",
       "      <th>URI</th>\n",
       "      <th>name</th>\n",
       "      <th>text</th>\n",
       "    </tr>\n",
       "  </thead>\n",
       "  <tbody>\n",
       "    <tr>\n",
       "      <th>0</th>\n",
       "      <td>&lt;http://dbpedia.org/resource/Digby_Morrell&gt;</td>\n",
       "      <td>Digby Morrell</td>\n",
       "      <td>digby morrell born 10 october 1979 is a former...</td>\n",
       "    </tr>\n",
       "    <tr>\n",
       "      <th>1</th>\n",
       "      <td>&lt;http://dbpedia.org/resource/Alfred_J._Lewy&gt;</td>\n",
       "      <td>Alfred J. Lewy</td>\n",
       "      <td>alfred j lewy aka sandy lewy graduated from un...</td>\n",
       "    </tr>\n",
       "    <tr>\n",
       "      <th>2</th>\n",
       "      <td>&lt;http://dbpedia.org/resource/Harpdog_Brown&gt;</td>\n",
       "      <td>Harpdog Brown</td>\n",
       "      <td>harpdog brown is a singer and harmonica player...</td>\n",
       "    </tr>\n",
       "    <tr>\n",
       "      <th>3</th>\n",
       "      <td>&lt;http://dbpedia.org/resource/Franz_Rottensteiner&gt;</td>\n",
       "      <td>Franz Rottensteiner</td>\n",
       "      <td>franz rottensteiner born in waidmannsfeld lowe...</td>\n",
       "    </tr>\n",
       "    <tr>\n",
       "      <th>4</th>\n",
       "      <td>&lt;http://dbpedia.org/resource/G-Enka&gt;</td>\n",
       "      <td>G-Enka</td>\n",
       "      <td>henry krvits born 30 december 1974 in tallinn ...</td>\n",
       "    </tr>\n",
       "  </tbody>\n",
       "</table>\n",
       "</div>"
      ],
      "text/plain": [
       "                                                 URI                 name  \\\n",
       "0        <http://dbpedia.org/resource/Digby_Morrell>        Digby Morrell   \n",
       "1       <http://dbpedia.org/resource/Alfred_J._Lewy>       Alfred J. Lewy   \n",
       "2        <http://dbpedia.org/resource/Harpdog_Brown>        Harpdog Brown   \n",
       "3  <http://dbpedia.org/resource/Franz_Rottensteiner>  Franz Rottensteiner   \n",
       "4               <http://dbpedia.org/resource/G-Enka>               G-Enka   \n",
       "\n",
       "                                                text  \n",
       "0  digby morrell born 10 october 1979 is a former...  \n",
       "1  alfred j lewy aka sandy lewy graduated from un...  \n",
       "2  harpdog brown is a singer and harmonica player...  \n",
       "3  franz rottensteiner born in waidmannsfeld lowe...  \n",
       "4  henry krvits born 30 december 1974 in tallinn ...  "
      ]
     },
     "execution_count": 2,
     "metadata": {},
     "output_type": "execute_result"
    }
   ],
   "source": [
    "wiki = pd.read_csv('people_wiki.csv')\n",
    "wiki.head()"
   ]
  },
  {
   "cell_type": "markdown",
   "metadata": {},
   "source": [
    "If you want to check whether the text on the webpage agrees with the one here, you can display it with the following code:"
   ]
  },
  {
   "cell_type": "code",
   "execution_count": 3,
   "metadata": {},
   "outputs": [
    {
     "name": "stdout",
     "output_type": "stream",
     "text": [
      "digby morrell born 10 october 1979 is a former australian rules footballer who played with the kangaroos and carlton in the australian football league aflfrom western australia morrell played his early senior football for west perth his 44game senior career for the falcons spanned 19982000 and he was the clubs leading goalkicker in 2000 at the age of 21 morrell was recruited to the australian football league by the kangaroos football club with its third round selection in the 2001 afl rookie draft as a forward he twice kicked five goals during his time with the kangaroos the first was in a losing cause against sydney in 2002 and the other the following season in a drawn game against brisbaneafter the 2003 season morrell was traded along with david teague to the carlton football club in exchange for corey mckernan he played 32 games for the blues before being delisted at the end of 2005 he continued to play victorian football league vfl football with the northern bullants carltons vflaffiliate in 2006 and acted as playing assistant coach in 2007 in 2008 he shifted to the box hill hawks before retiring from playing at the end of the season from 2009 until 2013 morrell was the senior coach of the strathmore football club in the essendon district football league leading the club to the 2011 premier division premiership since 2014 he has coached the west coburg football club also in the edflhe currently teaches physical education at parade college in melbourne\n"
     ]
    },
    {
     "data": {
      "text/html": [
       "<?xml version=\"1.0\" encoding=\"UTF-8\" ?>\n",
       "<!DOCTYPE html PUBLIC \"-//W3C//DTD XHTML+RDFa 1.0//EN\" \"http://www.w3.org/MarkUp/DTD/xhtml-rdfa-1.dtd\">\n",
       "<html xmlns=\"http://www.w3.org/1999/xhtml\"\n",
       "    xmlns:dbpprop=\"http://dbpedia.org/property/\"\n",
       "    xmlns:foaf=\"http://xmlns.com/foaf/0.1/\"\n",
       "    version=\"XHTML+RDFa 1.0\"\n",
       "    xml:lang=\"en\"\n",
       ">\n",
       "\n",
       "\n",
       "<!-- header -->\n",
       "<head profile=\"http://www.w3.org/1999/xhtml/vocab\">\n",
       "    <meta charset=\"utf-8\" />\n",
       "    <meta http-equiv=\"X-UA-Compatible\" content=\"IE=edge\" />\n",
       "    <meta name=\"viewport\" content=\"width=device-width, initial-scale=1.0\" />\n",
       "    <title>About: Digby Morrell</title>\n",
       "    <link rel=\"alternate\" type=\"application/rdf+xml\" \t\thref=\"http://dbpedia.org/data/Digby_Morrell.rdf\" title=\"Structured Descriptor Document (RDF/XML format)\" />\n",
       "    <link rel=\"alternate\" type=\"text/n3\" \t\t\thref=\"http://dbpedia.org/data/Digby_Morrell.n3\" title=\"Structured Descriptor Document (N3 format)\" />\n",
       "    <link rel=\"alternate\" type=\"text/turtle\" \t\t\thref=\"http://dbpedia.org/data/Digby_Morrell.ttl\" title=\"Structured Descriptor Document (Turtle format)\" />\n",
       "    <link rel=\"alternate\" type=\"application/json+rdf\" \t\thref=\"http://dbpedia.org/data/Digby_Morrell.jrdf\" title=\"Structured Descriptor Document (RDF/JSON format)\" />\n",
       "    <link rel=\"alternate\" type=\"application/json\" \t\thref=\"http://dbpedia.org/data/Digby_Morrell.json\" title=\"Structured Descriptor Document (RDF/JSON format)\" />\n",
       "    <link rel=\"alternate\" type=\"application/atom+xml\" \t\thref=\"http://dbpedia.org/data/Digby_Morrell.atom\" title=\"OData (Atom+Feed format)\" />\n",
       "    <link rel=\"alternate\" type=\"text/plain\" \t\t\thref=\"http://dbpedia.org/data/Digby_Morrell.ntriples\" title=\"Structured Descriptor Document (N-Triples format)\" />\n",
       "    <link rel=\"alternate\" type=\"text/csv\"   \t\t\thref=\"http://dbpedia.org/sparql?default-graph-uri=http%3A%2F%2Fdbpedia.org&amp;query=DESCRIBE%20%3Chttp%3A%2F%2Fdbpedia.org%2Fresource%2FDigby_Morrell%3E&amp;format=text%2Fcsv\" title=\"Structured Descriptor Document (CSV format)\" />\n",
       "    \n",
       "    <link rel=\"alternate\" type=\"text/cxml\"  \t\t\thref=\"http://dbpedia.org/sparql?default-graph-uri=http%3A%2F%2Fdbpedia.org&amp;query=DESCRIBE%20%3Chttp%3A%2F%2Fdbpedia.org%2Fresource%2FDigby_Morrell%3E&amp;format=text%2Fcxml\" title=\"Structured Descriptor Document (CXML format)\" />\n",
       "    \n",
       "    <link rel=\"alternate\" type=\"application/microdata+json\"\thref=\"http://dbpedia.org/sparql?default-graph-uri=http%3A%2F%2Fdbpedia.org&amp;query=DESCRIBE%20%3Chttp%3A%2F%2Fdbpedia.org%2Fresource%2FDigby_Morrell%3E&amp;format=application%2Fmicrodata%2Bjson\" title=\"Structured Descriptor Document (Microdata/JSON format)\" />\n",
       "    <link rel=\"alternate\" type=\"text/html\" \t\t\thref=\"http://dbpedia.org/sparql?default-graph-uri=http%3A%2F%2Fdbpedia.org&amp;query=DESCRIBE%20%3Chttp%3A%2F%2Fdbpedia.org%2Fresource%2FDigby_Morrell%3E&amp;format=text%2Fhtml\" title=\"Structured Descriptor Document (Microdata/HTML format)\" />\n",
       "    <link rel=\"alternate\" type=\"application/ld+json\" \t\thref=\"http://dbpedia.org/sparql?default-graph-uri=http%3A%2F%2Fdbpedia.org&amp;query=DESCRIBE%20%3Chttp%3A%2F%2Fdbpedia.org%2Fresource%2FDigby_Morrell%3E&amp;format=application%2Fjson-ld\" title=\"Structured Descriptor Document (JSON-LD format)\" />\n",
       "    <link rel=\"alternate\" type=\"text/x-html-script-ld+json\"\thref=\"http://dbpedia.org/sparql?default-graph-uri=http%3A%2F%2Fdbpedia.org&amp;query=DESCRIBE%20%3Chttp%3A%2F%2Fdbpedia.org%2Fresource%2FDigby_Morrell%3E&amp;format=text%2Fx-html-script-ld%2Bjson\" title=\"Structured Descriptor Document (HTML with embedded JSON-LD)\" />\n",
       "    <link rel=\"alternate\" type=\"text/x-html-script-turtle\"\thref=\"http://dbpedia.org/sparql?default-graph-uri=http%3A%2F%2Fdbpedia.org&amp;query=DESCRIBE%20%3Chttp%3A%2F%2Fdbpedia.org%2Fresource%2FDigby_Morrell%3E&amp;format=text%2Fx-html-script-turtle\" title=\"Structured Descriptor Document (HTML with embedded Turtle)\" />\n",
       "    <link rel=\"timegate\" type=\"text/html\" \t\t\thref=\"http://dbpedia.mementodepot.org/timegate/http://dbpedia.org/page/Digby_Morrell\" title=\"Time Machine\" />\n",
       "    <link rel=\"foaf:primarytopic\" \t\t\t\thref=\"http://dbpedia.org/resource/Digby_Morrell\"/>\n",
       "    <link rev=\"describedby\" \t\t\t\t\thref=\"http://dbpedia.org/resource/Digby_Morrell\"/>\n",
       "    <link rel=\"stylesheet\" type=\"text/css\"\t\t\thref=\"/statics/css/bootstrap.min.css\" />\n",
       "    <link rel=\"stylesheet\" type=\"text/css\" \t\t\thref=\"/statics/css/dbpedia.css\" />\n",
       "</head>\n",
       "<body about=\"http://dbpedia.org/resource/Digby_Morrell\">\n",
       "<div class=\"navbar navbar-default navbar-fixed-top\">\n",
       "    <div class=\"container\">\n",
       "\t<div class=\"navbar-header\">\n",
       "\t    <button type=\"button\" class=\"navbar-toggle collapsed\" data-toggle=\"collapse\" data-target=\"#dbp-navbar\" aria-expanded=\"false\">\n",
       "\t\t<span class=\"sr-only\">Toggle navigation</span>\n",
       "\t\t<span class=\"icon-bar\"></span>\n",
       "\t\t<span class=\"icon-bar\"></span>\n",
       "\t\t<span class=\"icon-bar\"></span>\n",
       "\t    </button>\n",
       "\t    <a class=\"navbar-brand\" href=\"http://wiki.dbpedia.org/about\" title=\"About DBpedia\" style=\"color: #2c5078\">\n",
       "\t    <img class=\"img-responsive\" src=\"/statics/images/dbpedia_logo_land_120.png\" alt=\"About DBpedia\" style=\"display: inline-block;  margin-top: -12px\"/>\n",
       "\t    </a>\n",
       "\t</div>\n",
       "\n",
       "\t<div class=\"collapse navbar-collapse\" id=\"dbp-navbar\">\n",
       "\t    <ul class=\"nav navbar-nav navbar-right\">\n",
       "\t\t<li><a class=\"active\" href=\"/fct/\" title=\"Switch to /fct endpoint\"><span class=\"glyphicon glyphicon-new-window\" aria-hidden=\"true\"></span> Faceted Browser </a></li>\n",
       "\t\t<li><a class=\"active\" href=\"/sparql/\" title=\"Switch to /sparql endpoint\"><span class=\"glyphicon glyphicon-new-window\" aria-hidden=\"true\"></span> Sparql Endpoint </a></li>\n",
       "\t    </ul>\n",
       "\t    <ul class=\"nav navbar-nav\">\n",
       "\t    <li class=\"dropdown\">\n",
       "\t\t<a href=\"#\" class=\"dropdown-toggle\" data-toggle=\"dropdown\" role=\"button\" aria-haspopup=\"true\" aria-expanded=\"false\"><span class=\"glyphicon glyphicon-eye-open\" aria-hidden=\"true\"></span> Browse using <span class=\"caret\"></span></a>\n",
       "\t\t<ul class=\"dropdown-menu\">\n",
       "\t\t<li><a href=\"/describe/?uri=http%3A%2F%2Fdbpedia.org%2Fresource%2FDigby_Morrell\">OpenLink Faceted Browser</a></li>\n",
       "\t\t<li><a href=\"http://linkeddata.uriburner.com/rdf-editor/#/editor?uri=http%3A%2F%2Fdbpedia.org%2Fresource%2FDigby_Morrell&amp;view=statements\">OpenLink Structured Data Editor</a></li>\n",
       "\t\t<li><a href=\"http://en.lodlive.it/?http%3A%2F%2Fdbpedia.org%2Fresource%2FDigby_Morrell\">LodLive Browser</a></li>\n",
       "\t\t<li><a href=\"http://lodmilla.sztaki.hu/lodmilla/?url=http%3A%2F%2Fdbpedia.org%2Fresource%2FDigby_Morrell\">LODmilla Browser</a></li>\n",
       "\t\t</ul>\n",
       "\t    </li>\n",
       "\t    <li class=\"dropdown\">\n",
       "\t\t<a href=\"#\" class=\"dropdown-toggle\" data-toggle=\"dropdown\" role=\"button\" aria-haspopup=\"true\" aria-expanded=\"false\"><span class=\"glyphicon glyphicon-file\" aria-hidden=\"true\"></span> Formats <span class=\"caret\"></span></a>\n",
       "\t\t<ul class=\"dropdown-menu\">\n",
       "\t\t<li>&nbsp;RDF:</li>\n",
       "\t\t    <li><a href=\"http://dbpedia.org/data/Digby_Morrell.ntriples\">N-Triples</a></li>\n",
       "\t\t    <li><a href=\"http://dbpedia.org/data/Digby_Morrell.n3\">N3</a></li>\n",
       "\t\t    <li><a href=\"http://dbpedia.org/data/Digby_Morrell.ttl\">Turtle</a></li>\n",
       "\t\t    <li><a href=\"http://dbpedia.org/data/Digby_Morrell.json\">JSON</a></li>\n",
       "\t\t    <li><a href=\"http://dbpedia.org/data/Digby_Morrell.rdf\">XML</a></li>\n",
       "\t\t<li class=\"divider\"></li>\n",
       "\t\t<li>&nbsp;OData:</li>\n",
       "\t\t    <li><a href=\"http://dbpedia.org/data/Digby_Morrell.atom\">Atom</a></li>\n",
       "\t\t    <li><a href=\"http://dbpedia.org/data/Digby_Morrell.jsod\">JSON</a></li>\n",
       "\t\t<li class=\"divider\"></li>\n",
       "\t\t<li>&nbsp;Microdata:</li>\n",
       "\t\t    <li><a href=\"http://dbpedia.org/sparql?default-graph-uri=http%3A%2F%2Fdbpedia.org&amp;query=DESCRIBE%20%3Chttp%3A%2F%2Fdbpedia.org%2Fresource%2FDigby_Morrell%3E&amp;format=application%2Fmicrodata%2Bjson\">JSON</a></li>\n",
       "\t\t    <li><a href=\"http://dbpedia.org/sparql?default-graph-uri=http%3A%2F%2Fdbpedia.org&amp;query=DESCRIBE%20%3Chttp%3A%2F%2Fdbpedia.org%2Fresource%2FDigby_Morrell%3E&amp;format=text%2Fhtml\">HTML</a></li>\n",
       "\t\t<li class=\"divider\"></li>\n",
       "\t\t<li>&nbsp;Embedded:</li>\n",
       "\t\t    <li><a href=\"http://dbpedia.org/sparql?default-graph-uri=http%3A%2F%2Fdbpedia.org&amp;query=DESCRIBE%20%3Chttp%3A%2F%2Fdbpedia.org%2Fresource%2FDigby_Morrell%3E&amp;format=text%2Fx-html-script-ld%2Bjson\">JSON</a></li>\n",
       "\t\t    <li><a href=\"http://dbpedia.org/sparql?default-graph-uri=http%3A%2F%2Fdbpedia.org&amp;query=DESCRIBE%20%3Chttp%3A%2F%2Fdbpedia.org%2Fresource%2FDigby_Morrell%3E&amp;format=text%2Fx-html-script-turtle\">Turtle</a></li>\n",
       "\t\t<li class=\"divider\"></li>\n",
       "\t\t    \n",
       "\t\t        <li><a href=\"http://dbpedia.org/sparql?default-graph-uri=http%3A%2F%2Fdbpedia.org&amp;query=DESCRIBE%20%3Chttp%3A%2F%2Fdbpedia.org%2Fresource%2FDigby_Morrell%3E&amp;format=text%2Fcxml\">CXML</a></li>\n",
       "\t\t    \n",
       "\t\t    <li><a href=\"http://dbpedia.org/sparql?default-graph-uri=http%3A%2F%2Fdbpedia.org&amp;query=DESCRIBE%20%3Chttp%3A%2F%2Fdbpedia.org%2Fresource%2FDigby_Morrell%3E&amp;format=text%2Fcsv\">CSV</a></li>\n",
       "\t\t    <li><a href=\"http://dbpedia.org/sparql?default-graph-uri=http%3A%2F%2Fdbpedia.org&amp;query=DESCRIBE%20%3Chttp%3A%2F%2Fdbpedia.org%2Fresource%2FDigby_Morrell%3E&amp;format=application%2Fjson-ld\">JSON-LD</a></li>\n",
       "\t\t</ul>\n",
       "\t    </li>\n",
       "\t    </ul>\n",
       "\t</div>\n",
       "    </div>\n",
       "</div>\n",
       "\n",
       "<div class=\"container\">\n",
       "<!-- page-header -->\n",
       "    <div class=\"page-header\">\n",
       "\t<!-- div class=\"pull-right\">\n",
       "\t    <a href=\"http://wiki.dbpedia.org/about\" title=\"About DBpedia\">\n",
       "\t    <img class=\"img-responsive\" src=\"/statics/images/dbpedia_logo_land_120.png\" alt=\"About DBpedia\"/>\n",
       "\t    </a>\n",
       "\t</div -->\n",
       "\t<h1 id=\"title\">About:\n",
       "\t    <a href=\"http://dbpedia.org/resource/Digby_Morrell\">Digby Morrell</a>\n",
       "\t</h1>\n",
       "\t<div class=\"page-resource-uri\">\n",
       "\t    An Entity of Type : <a href=\"http://dbpedia.org/ontology/Person\">person</a>,\n",
       "\t    from Named Graph : <a href=\"http://dbpedia.org\">http://dbpedia.org</a>,\n",
       "\t    within Data Space : <a href=\"http://dbpedia.org\">dbpedia.org</a>\n",
       "\t</div>\n",
       "    </div>\n",
       "<!-- page-header -->\n",
       "<!-- row -->\n",
       "    <div class=\"row\">\n",
       "\t<div class=\"col-xs-12\">\n",
       "\t    <p class=\"lead\">Digby Morrell (born 10 October 1979) is a former Australian rules footballer who played with the Kangaroos and Carlton in the Australian Football League (AFL). From Western Australia, Morrell played his early senior football for West Perth. His 44-game senior career for the Falcons spanned 1998–2000, and he was the club's leading goalkicker in 2000. At the age of 21, Morrell was recruited to the Australian Football League by the Kangaroos Football Club with its third round selection in the 2001 AFL Rookie Draft. As a forward he twice kicked five goals during his time with the Kangaroos. The first was in a losing cause against Sydney in 2002 and the other the following season in a drawn game against Brisbane.</p>\n",
       "\t</div>\n",
       "\t<div class=\"col-xs-12\">\n",
       "\t    <!-- proptable -->\n",
       "\t    <table class=\"description table table-striped\">\n",
       "\t    <tr>\n",
       "\t\t<th class=\"col-xs-3\">Property</th>\n",
       "\t\t<th class=\"col-xs-9\">Value</th>\n",
       "\t    </tr>\n",
       "<tr class=\"odd\"><td class=\"property\"><a class=\"uri\" href=\"http://dbpedia.org/ontology/abstract\"><small>dbo:</small>abstract</a>\n",
       "</td><td><ul>\n",
       "\t<li><span class=\"literal\"><span property=\"dbo:abstract\" xmlns:dbo=\"http://dbpedia.org/ontology/\" xml:lang=\"en\">Digby Morrell (born 10 October 1979) is a former Australian rules footballer who played with the Kangaroos and Carlton in the Australian Football League (AFL). From Western Australia, Morrell played his early senior football for West Perth. His 44-game senior career for the Falcons spanned 1998–2000, and he was the club&#39;s leading goalkicker in 2000. At the age of 21, Morrell was recruited to the Australian Football League by the Kangaroos Football Club with its third round selection in the 2001 AFL Rookie Draft. As a forward he twice kicked five goals during his time with the Kangaroos. The first was in a losing cause against Sydney in 2002 and the other the following season in a drawn game against Brisbane. After the 2003 season, Morrell was traded, along with David Teague, to the Carlton Football Club in exchange for Corey McKernan. He played 32 games for the Blues before being delisted at the end of 2005. He continued to play Victorian Football League (VFL) football with the Northern Bullants, Carlton&#39;s VFL-affiliate in 2006, and acted as playing assistant coach in 2007. In 2008, he shifted to the Box Hill Hawks, before retiring from playing at the end of the season. From 2009 until 2013, Morrell was the senior coach of the Strathmore Football Club in the Essendon District Football League, leading the club to the 2011 Premier Division premiership. Since 2014, he has coached the West Coburg Football Club, also in the EDFL. He currently teaches physical education at Parade College in Melbourne.</span><small> (en)</small></span></li>\n",
       "</ul></td></tr><tr class=\"even\"><td class=\"property\"><a class=\"uri\" href=\"http://dbpedia.org/ontology/birthDate\"><small>dbo:</small>birthDate</a>\n",
       "</td><td><ul>\n",
       "\t<li><span class=\"literal\"><span property=\"dbo:birthDate\" xmlns:dbo=\"http://dbpedia.org/ontology/\">1979-10-10</span><small> (xsd:date)</small></span></li>\n",
       "</ul></td></tr><tr class=\"odd\"><td class=\"property\"><a class=\"uri\" href=\"http://dbpedia.org/ontology/wikiPageID\"><small>dbo:</small>wikiPageID</a>\n",
       "</td><td><ul>\n",
       "\t<li><span class=\"literal\"><span property=\"dbo:wikiPageID\" xmlns:dbo=\"http://dbpedia.org/ontology/\">12660423</span><small> (xsd:integer)</small></span></li>\n",
       "</ul></td></tr><tr class=\"even\"><td class=\"property\"><a class=\"uri\" href=\"http://dbpedia.org/ontology/wikiPageRevisionID\"><small>dbo:</small>wikiPageRevisionID</a>\n",
       "</td><td><ul>\n",
       "\t<li><span class=\"literal\"><span property=\"dbo:wikiPageRevisionID\" xmlns:dbo=\"http://dbpedia.org/ontology/\">737182745</span><small> (xsd:integer)</small></span></li>\n",
       "</ul></td></tr><tr class=\"odd\"><td class=\"property\"><a class=\"uri\" href=\"http://dbpedia.org/property/birthDate\"><small>dbp:</small>birthDate</a>\n",
       "</td><td><ul>\n",
       "\t<li><span class=\"literal\"><span property=\"dbp:birthDate\">1979-10-10</span><small> (xsd:date)</small></span></li>\n",
       "</ul></td></tr><tr class=\"even\"><td class=\"property\"><a class=\"uri\" href=\"http://dbpedia.org/property/clubs\"><small>dbp:</small>clubs</a>\n",
       "</td><td><ul>\n",
       "\t<li><span class=\"literal\"><a class=\"uri\" rel=\"dbp:clubs\" href=\"http://dbpedia.org/resource/North_Melbourne_Football_Club\"><small>dbr</small>:North_Melbourne_Football_Club</a></span></li>\n",
       "\t<li><span class=\"literal\"><span property=\"dbp:clubs\">Carlton</span></span></li>\n",
       "</ul></td></tr><tr class=\"odd\"><td class=\"property\"><a class=\"uri\" href=\"http://dbpedia.org/property/debutdate\"><small>dbp:</small>debutdate</a>\n",
       "</td><td><ul>\n",
       "\t<li><span class=\"literal\"><span property=\"dbp:debutdate\">2001</span><small> (xsd:integer)</small></span></li>\n",
       "</ul></td></tr><tr class=\"even\"><td class=\"property\"><a class=\"uri\" href=\"http://dbpedia.org/property/debutopponent\"><small>dbp:</small>debutopponent</a>\n",
       "</td><td><ul>\n",
       "\t<li><span class=\"literal\"><span property=\"dbp:debutopponent\">Richmond</span></span></li>\n",
       "</ul></td></tr><tr class=\"odd\"><td class=\"property\"><a class=\"uri\" href=\"http://dbpedia.org/property/debutstadium\"><small>dbp:</small>debutstadium</a>\n",
       "</td><td><ul>\n",
       "\t<li><span class=\"literal\"><span property=\"dbp:debutstadium\">Docklands</span></span></li>\n",
       "</ul></td></tr><tr class=\"even\"><td class=\"property\"><a class=\"uri\" href=\"http://dbpedia.org/property/debutteam\"><small>dbp:</small>debutteam</a>\n",
       "</td><td><ul>\n",
       "\t<li><span class=\"literal\"><a class=\"uri\" rel=\"dbp:debutteam\" href=\"http://dbpedia.org/resource/North_Melbourne_Football_Club\"><small>dbr</small>:North_Melbourne_Football_Club</a></span></li>\n",
       "</ul></td></tr><tr class=\"odd\"><td class=\"property\"><a class=\"uri\" href=\"http://dbpedia.org/property/games(goals)_\"><small>dbp:</small>games(goals)_</a>\n",
       "</td><td><ul>\n",
       "\t<li><span class=\"literal\"><span property=\"dbp:games(goals)_\">32</span><small> (xsd:integer)</small></span></li>\n",
       "\t<li><span class=\"literal\"><span property=\"dbp:games(goals)_\">40</span><small> (xsd:integer)</small></span></li>\n",
       "\t<li><span class=\"literal\"><span property=\"dbp:games(goals)_\">72</span><small> (xsd:integer)</small></span></li>\n",
       "</ul></td></tr><tr class=\"even\"><td class=\"property\"><a class=\"uri\" href=\"http://dbpedia.org/property/heightweight\"><small>dbp:</small>heightweight</a>\n",
       "</td><td><ul>\n",
       "\t<li><span class=\"literal\"><span property=\"dbp:heightweight\">191</span><small> (xsd:integer)</small></span></li>\n",
       "</ul></td></tr><tr class=\"odd\"><td class=\"property\"><a class=\"uri\" href=\"http://dbpedia.org/property/originalteam\"><small>dbp:</small>originalteam</a>\n",
       "</td><td><ul>\n",
       "\t<li><span class=\"literal\"><span property=\"dbp:originalteam\">West Perth</span></span></li>\n",
       "</ul></td></tr><tr class=\"even\"><td class=\"property\"><a class=\"uri\" href=\"http://dbpedia.org/property/statsend\"><small>dbp:</small>statsend</a>\n",
       "</td><td><ul>\n",
       "\t<li><span class=\"literal\"><span property=\"dbp:statsend\">2005</span><small> (xsd:integer)</small></span></li>\n",
       "</ul></td></tr><tr class=\"odd\"><td class=\"property\"><a class=\"uri\" href=\"http://dbpedia.org/property/wordnet_type\"><small>dbp:</small>wordnet_type</a>\n",
       "</td><td><ul>\n",
       "\t<li><span class=\"literal\"><a class=\"uri\" rel=\"dbp:wordnet_type nofollow\" href=\"http://www.w3.org/2006/03/wn/wn20/instances/synset-football_player-noun-1\">http://www.w3.org/2006/03/wn/wn20/instances/synset-football_player-noun-1</a></span></li>\n",
       "</ul></td></tr><tr class=\"even\"><td class=\"property\"><a class=\"uri\" href=\"http://dbpedia.org/property/years\"><small>dbp:</small>years</a>\n",
       "</td><td><ul>\n",
       "\t<li><span class=\"literal\"><span property=\"dbp:years\">2001</span><small> (xsd:integer)</small></span></li>\n",
       "\t<li><span class=\"literal\"><span property=\"dbp:years\">2004</span><small> (xsd:integer)</small></span></li>\n",
       "\t<li><span class=\"literal\"><span property=\"dbp:years\">Total -</span></span></li>\n",
       "</ul></td></tr><tr class=\"odd\"><td class=\"property\"><a class=\"uri\" href=\"http://purl.org/dc/terms/description\"><small>dct:</small>description</a>\n",
       "</td><td><ul>\n",
       "\t<li><span class=\"literal\"><span property=\"dct:description\" xmlns:dct=\"http://purl.org/dc/terms/\" xml:lang=\"en\">Australian rules footballer</span><small> (en)</small></span></li>\n",
       "</ul></td></tr><tr class=\"even\"><td class=\"property\"><a class=\"uri\" href=\"http://purl.org/dc/terms/subject\"><small>dct:</small>subject</a>\n",
       "</td><td><ul>\n",
       "\t<li><span class=\"literal\"><a class=\"uri\" rel=\"dct:subject\" xmlns:dct=\"http://purl.org/dc/terms/\" href=\"http://dbpedia.org/resource/Category:North_Melbourne_Football_Club_players\"><small>dbc</small>:North_Melbourne_Football_Club_players</a></span></li>\n",
       "\t<li><span class=\"literal\"><a class=\"uri\" rel=\"dct:subject\" xmlns:dct=\"http://purl.org/dc/terms/\" href=\"http://dbpedia.org/resource/Category:1979_births\"><small>dbc</small>:1979_births</a></span></li>\n",
       "\t<li><span class=\"literal\"><a class=\"uri\" rel=\"dct:subject\" xmlns:dct=\"http://purl.org/dc/terms/\" href=\"http://dbpedia.org/resource/Category:Living_people\"><small>dbc</small>:Living_people</a></span></li>\n",
       "\t<li><span class=\"literal\"><a class=\"uri\" rel=\"dct:subject\" xmlns:dct=\"http://purl.org/dc/terms/\" href=\"http://dbpedia.org/resource/Category:Carlton_Football_Club_players\"><small>dbc</small>:Carlton_Football_Club_players</a></span></li>\n",
       "\t<li><span class=\"literal\"><a class=\"uri\" rel=\"dct:subject\" xmlns:dct=\"http://purl.org/dc/terms/\" href=\"http://dbpedia.org/resource/Category:Australian_rules_footballers_from_Western_Australia\"><small>dbc</small>:Australian_rules_footballers_from_Western_Australia</a></span></li>\n",
       "\t<li><span class=\"literal\"><a class=\"uri\" rel=\"dct:subject\" xmlns:dct=\"http://purl.org/dc/terms/\" href=\"http://dbpedia.org/resource/Category:Box_Hill_Football_Club_players\"><small>dbc</small>:Box_Hill_Football_Club_players</a></span></li>\n",
       "\t<li><span class=\"literal\"><a class=\"uri\" rel=\"dct:subject\" xmlns:dct=\"http://purl.org/dc/terms/\" href=\"http://dbpedia.org/resource/Category:Northern_Blues_players\"><small>dbc</small>:Northern_Blues_players</a></span></li>\n",
       "</ul></td></tr><tr class=\"odd\"><td class=\"property\"><a class=\"uri\" href=\"http://purl.org/linguistics/gold/hypernym\">http://purl.org/linguistics/gold/hypernym</a>\n",
       "</td><td><ul>\n",
       "\t<li><span class=\"literal\"><a class=\"uri\" rel=\"ns1:hypernym\" xmlns:ns1=\"http://purl.org/linguistics/gold/\" href=\"http://dbpedia.org/resource/Footballer\"><small>dbr</small>:Footballer</a></span></li>\n",
       "</ul></td></tr><tr class=\"even\"><td class=\"property\"><a class=\"uri\" href=\"http://www.w3.org/1999/02/22-rdf-syntax-ns#type\"><small>rdf:</small>type</a>\n",
       "</td><td><ul>\n",
       "\t<li><span class=\"literal\"><a class=\"uri\" rel=\"rdf:type\" xmlns:rdf=\"http://www.w3.org/1999/02/22-rdf-syntax-ns#\" href=\"http://www.w3.org/2002/07/owl#Thing\"><small>owl</small>:Thing</a></span></li>\n",
       "\t<li><span class=\"literal\"><a class=\"uri\" rel=\"rdf:type\" xmlns:rdf=\"http://www.w3.org/1999/02/22-rdf-syntax-ns#\" href=\"http://xmlns.com/foaf/0.1/Person\"><small>foaf</small>:Person</a></span></li>\n",
       "\t<li><span class=\"literal\"><a class=\"uri\" rel=\"rdf:type\" xmlns:rdf=\"http://www.w3.org/1999/02/22-rdf-syntax-ns#\" href=\"http://dbpedia.org/ontology/Person\"><small>dbo</small>:Person</a></span></li>\n",
       "\t<li><span class=\"literal\"><a class=\"uri\" rel=\"rdf:type\" xmlns:rdf=\"http://www.w3.org/1999/02/22-rdf-syntax-ns#\" href=\"http://www.ontologydesignpatterns.org/ont/dul/DUL.owl#Agent\"><small>dul</small>:Agent</a></span></li>\n",
       "\t<li><span class=\"literal\"><a class=\"uri\" rel=\"rdf:type\" xmlns:rdf=\"http://www.w3.org/1999/02/22-rdf-syntax-ns#\" href=\"http://www.ontologydesignpatterns.org/ont/dul/DUL.owl#NaturalPerson\"><small>dul</small>:NaturalPerson</a></span></li>\n",
       "\t<li><span class=\"literal\"><a class=\"uri\" rel=\"rdf:type\" xmlns:rdf=\"http://www.w3.org/1999/02/22-rdf-syntax-ns#\" href=\"http://www.wikidata.org/entity/Q13414980\"><small>wikidata</small>:Q13414980</a></span></li>\n",
       "\t<li><span class=\"literal\"><a class=\"uri\" rel=\"rdf:type\" xmlns:rdf=\"http://www.w3.org/1999/02/22-rdf-syntax-ns#\" href=\"http://www.wikidata.org/entity/Q215627\"><small>wikidata</small>:Q215627</a></span></li>\n",
       "\t<li><span class=\"literal\"><a class=\"uri\" rel=\"rdf:type\" xmlns:rdf=\"http://www.w3.org/1999/02/22-rdf-syntax-ns#\" href=\"http://www.wikidata.org/entity/Q24229398\"><small>wikidata</small>:Q24229398</a></span></li>\n",
       "\t<li><span class=\"literal\"><a class=\"uri\" rel=\"rdf:type\" xmlns:rdf=\"http://www.w3.org/1999/02/22-rdf-syntax-ns#\" href=\"http://www.wikidata.org/entity/Q5\"><small>wikidata</small>:Q5</a></span></li>\n",
       "\t<li><span class=\"literal\"><a class=\"uri\" rel=\"rdf:type\" xmlns:rdf=\"http://www.w3.org/1999/02/22-rdf-syntax-ns#\" href=\"http://dbpedia.org/ontology/Agent\"><small>dbo</small>:Agent</a></span></li>\n",
       "\t<li><span class=\"literal\"><a class=\"uri\" rel=\"rdf:type\" xmlns:rdf=\"http://www.w3.org/1999/02/22-rdf-syntax-ns#\" href=\"http://dbpedia.org/ontology/Athlete\"><small>dbo</small>:Athlete</a></span></li>\n",
       "\t<li><span class=\"literal\"><a class=\"uri\" rel=\"rdf:type\" xmlns:rdf=\"http://www.w3.org/1999/02/22-rdf-syntax-ns#\" href=\"http://dbpedia.org/ontology/AustralianRulesFootballPlayer\"><small>dbo</small>:AustralianRulesFootballPlayer</a></span></li>\n",
       "\t<li><span class=\"literal\"><a class=\"uri\" rel=\"rdf:type\" xmlns:rdf=\"http://www.w3.org/1999/02/22-rdf-syntax-ns#\" href=\"http://dbpedia.org/ontology/SoccerPlayer\"><small>dbo</small>:SoccerPlayer</a></span></li>\n",
       "\t<li><span class=\"literal\"><a class=\"uri\" rel=\"rdf:type\" xmlns:rdf=\"http://www.w3.org/1999/02/22-rdf-syntax-ns#\" href=\"http://schema.org/Person\"><small>schema</small>:Person</a></span></li>\n",
       "\t<li><span class=\"literal\"><a class=\"uri\" rel=\"rdf:type\" xmlns:rdf=\"http://www.w3.org/1999/02/22-rdf-syntax-ns#\" href=\"http://dbpedia.org/class/yago/Athlete109820263\"><small>yago</small>:Athlete109820263</a></span></li>\n",
       "\t<li><span class=\"literal\"><a class=\"uri\" rel=\"rdf:type\" xmlns:rdf=\"http://www.w3.org/1999/02/22-rdf-syntax-ns#\" href=\"http://dbpedia.org/class/yago/CausalAgent100007347\"><small>yago</small>:CausalAgent100007347</a></span></li>\n",
       "\t<li><span class=\"literal\"><a class=\"uri\" rel=\"rdf:type\" xmlns:rdf=\"http://www.w3.org/1999/02/22-rdf-syntax-ns#\" href=\"http://dbpedia.org/class/yago/Contestant109613191\"><small>yago</small>:Contestant109613191</a></span></li>\n",
       "\t<li><span class=\"literal\"><a class=\"uri\" rel=\"rdf:type\" xmlns:rdf=\"http://www.w3.org/1999/02/22-rdf-syntax-ns#\" href=\"http://dbpedia.org/class/yago/FootballPlayer110101634\"><small>yago</small>:FootballPlayer110101634</a></span></li>\n",
       "\t<li><span class=\"literal\"><a class=\"uri\" rel=\"rdf:type\" xmlns:rdf=\"http://www.w3.org/1999/02/22-rdf-syntax-ns#\" href=\"http://dbpedia.org/class/yago/LivingThing100004258\"><small>yago</small>:LivingThing100004258</a></span></li>\n",
       "\t<li><span class=\"literal\"><a class=\"uri\" rel=\"rdf:type\" xmlns:rdf=\"http://www.w3.org/1999/02/22-rdf-syntax-ns#\" href=\"http://dbpedia.org/class/yago/Object100002684\"><small>yago</small>:Object100002684</a></span></li>\n",
       "\t<li><span class=\"literal\"><a class=\"uri\" rel=\"rdf:type\" xmlns:rdf=\"http://www.w3.org/1999/02/22-rdf-syntax-ns#\" href=\"http://dbpedia.org/class/yago/Organism100004475\"><small>yago</small>:Organism100004475</a></span></li>\n",
       "\t<li><span class=\"literal\"><a class=\"uri\" rel=\"rdf:type\" xmlns:rdf=\"http://www.w3.org/1999/02/22-rdf-syntax-ns#\" href=\"http://dbpedia.org/class/yago/Person100007846\"><small>yago</small>:Person100007846</a></span></li>\n",
       "\t<li><span class=\"literal\"><a class=\"uri\" rel=\"rdf:type\" xmlns:rdf=\"http://www.w3.org/1999/02/22-rdf-syntax-ns#\" href=\"http://dbpedia.org/class/yago/PhysicalEntity100001930\"><small>yago</small>:PhysicalEntity100001930</a></span></li>\n",
       "\t<li><span class=\"literal\"><a class=\"uri\" rel=\"rdf:type\" xmlns:rdf=\"http://www.w3.org/1999/02/22-rdf-syntax-ns#\" href=\"http://dbpedia.org/class/yago/Player110439851\"><small>yago</small>:Player110439851</a></span></li>\n",
       "\t<li><span class=\"literal\"><a class=\"uri\" rel=\"rdf:type\" xmlns:rdf=\"http://www.w3.org/1999/02/22-rdf-syntax-ns#\" href=\"http://dbpedia.org/class/yago/Whole100003553\"><small>yago</small>:Whole100003553</a></span></li>\n",
       "\t<li><span class=\"literal\"><a class=\"uri\" rel=\"rdf:type\" xmlns:rdf=\"http://www.w3.org/1999/02/22-rdf-syntax-ns#\" href=\"http://dbpedia.org/class/yago/YagoLegalActor\"><small>yago</small>:YagoLegalActor</a></span></li>\n",
       "\t<li><span class=\"literal\"><a class=\"uri\" rel=\"rdf:type\" xmlns:rdf=\"http://www.w3.org/1999/02/22-rdf-syntax-ns#\" href=\"http://dbpedia.org/class/yago/YagoLegalActorGeo\"><small>yago</small>:YagoLegalActorGeo</a></span></li>\n",
       "\t<li><span class=\"literal\"><a class=\"uri\" rel=\"rdf:type\" xmlns:rdf=\"http://www.w3.org/1999/02/22-rdf-syntax-ns#\" href=\"http://dbpedia.org/class/yago/WikicatCarltonFootballClubPlayers\"><small>yago</small>:WikicatCarltonFootballClubPlayers</a></span></li>\n",
       "\t<li><span class=\"literal\"><a class=\"uri\" rel=\"rdf:type\" xmlns:rdf=\"http://www.w3.org/1999/02/22-rdf-syntax-ns#\" href=\"http://dbpedia.org/class/yago/WikicatAustralianRulesFootballersFromWesternAustralia\"><small>yago</small>:WikicatAustralianRulesFootballersFromWesternAustralia</a></span></li>\n",
       "\t<li><span class=\"literal\"><a class=\"uri\" rel=\"rdf:type\" xmlns:rdf=\"http://www.w3.org/1999/02/22-rdf-syntax-ns#\" href=\"http://dbpedia.org/class/yago/WikicatBoxHillFootballClubPlayers\"><small>yago</small>:WikicatBoxHillFootballClubPlayers</a></span></li>\n",
       "\t<li><span class=\"literal\"><a class=\"uri\" rel=\"rdf:type\" xmlns:rdf=\"http://www.w3.org/1999/02/22-rdf-syntax-ns#\" href=\"http://dbpedia.org/class/yago/WikicatLivingPeople\"><small>yago</small>:WikicatLivingPeople</a></span></li>\n",
       "\t<li><span class=\"literal\"><a class=\"uri\" rel=\"rdf:type\" xmlns:rdf=\"http://www.w3.org/1999/02/22-rdf-syntax-ns#\" href=\"http://dbpedia.org/class/yago/WikicatNorthMelbourneFootballClubPlayers\"><small>yago</small>:WikicatNorthMelbourneFootballClubPlayers</a></span></li>\n",
       "\t<li><span class=\"literal\"><a class=\"uri\" rel=\"rdf:type\" xmlns:rdf=\"http://www.w3.org/1999/02/22-rdf-syntax-ns#\" href=\"http://dbpedia.org/class/yago/WikicatNorthernBluesPlayers\"><small>yago</small>:WikicatNorthernBluesPlayers</a></span></li>\n",
       "</ul></td></tr><tr class=\"odd\"><td class=\"property\"><a class=\"uri\" href=\"http://www.w3.org/2000/01/rdf-schema#comment\"><small>rdfs:</small>comment</a>\n",
       "</td><td><ul>\n",
       "\t<li><span class=\"literal\"><span property=\"rdfs:comment\" xmlns:rdfs=\"http://www.w3.org/2000/01/rdf-schema#\" xml:lang=\"en\">Digby Morrell (born 10 October 1979) is a former Australian rules footballer who played with the Kangaroos and Carlton in the Australian Football League (AFL). From Western Australia, Morrell played his early senior football for West Perth. His 44-game senior career for the Falcons spanned 1998–2000, and he was the club&#39;s leading goalkicker in 2000. At the age of 21, Morrell was recruited to the Australian Football League by the Kangaroos Football Club with its third round selection in the 2001 AFL Rookie Draft. As a forward he twice kicked five goals during his time with the Kangaroos. The first was in a losing cause against Sydney in 2002 and the other the following season in a drawn game against Brisbane.</span><small> (en)</small></span></li>\n",
       "</ul></td></tr><tr class=\"even\"><td class=\"property\"><a class=\"uri\" href=\"http://www.w3.org/2000/01/rdf-schema#label\"><small>rdfs:</small>label</a>\n",
       "</td><td><ul>\n",
       "\t<li><span class=\"literal\"><span property=\"rdfs:label\" xmlns:rdfs=\"http://www.w3.org/2000/01/rdf-schema#\" xml:lang=\"en\">Digby Morrell</span><small> (en)</small></span></li>\n",
       "</ul></td></tr><tr class=\"odd\"><td class=\"property\"><a class=\"uri\" href=\"http://www.w3.org/2002/07/owl#sameAs\"><small>owl:</small>sameAs</a>\n",
       "</td><td><ul>\n",
       "\t<li><span class=\"literal\"><a class=\"uri\" rel=\"owl:sameAs\" href=\"http://rdf.freebase.com/ns/m.02w_8_k\"><small>freebase</small>:Digby Morrell</a></span></li>\n",
       "\t<li><span class=\"literal\"><a class=\"uri\" rel=\"owl:sameAs\" href=\"http://www.wikidata.org/entity/Q5275580\"><small>wikidata</small>:Digby Morrell</a></span></li>\n",
       "\t<li><span class=\"literal\"><a class=\"uri\" rel=\"owl:sameAs\" href=\"http://wikidata.dbpedia.org/resource/Q5275580\"><small>dbpedia-wikidata</small>:Digby Morrell</a></span></li>\n",
       "\t<li><span class=\"literal\"><a class=\"uri\" rel=\"owl:sameAs\" href=\"http://yago-knowledge.org/resource/Digby_Morrell\"><small>yago-res</small>:Digby Morrell</a></span></li>\n",
       "</ul></td></tr><tr class=\"even\"><td class=\"property\"><a class=\"uri\" href=\"http://www.w3.org/ns/prov#wasDerivedFrom\"><small>prov:</small>wasDerivedFrom</a>\n",
       "</td><td><ul>\n",
       "\t<li><span class=\"literal\"><a class=\"uri\" rel=\"prov:wasDerivedFrom\" xmlns:prov=\"http://www.w3.org/ns/prov#\" href=\"http://en.wikipedia.org/wiki/Digby_Morrell?oldid=737182745\"><small>wikipedia-en</small>:Digby_Morrell?oldid=737182745</a></span></li>\n",
       "</ul></td></tr><tr class=\"odd\"><td class=\"property\"><a class=\"uri\" href=\"http://xmlns.com/foaf/0.1/gender\"><small>foaf:</small>gender</a>\n",
       "</td><td><ul>\n",
       "\t<li><span class=\"literal\"><span property=\"foaf:gender\" xmlns:foaf=\"http://xmlns.com/foaf/0.1/\" xml:lang=\"en\">male</span><small> (en)</small></span></li>\n",
       "</ul></td></tr><tr class=\"even\"><td class=\"property\"><a class=\"uri\" href=\"http://xmlns.com/foaf/0.1/givenName\"><small>foaf:</small>givenName</a>\n",
       "</td><td><ul>\n",
       "\t<li><span class=\"literal\"><span property=\"foaf:givenName\" xmlns:foaf=\"http://xmlns.com/foaf/0.1/\" xml:lang=\"en\">Digby</span><small> (en)</small></span></li>\n",
       "</ul></td></tr><tr class=\"odd\"><td class=\"property\"><a class=\"uri\" href=\"http://xmlns.com/foaf/0.1/isPrimaryTopicOf\"><small>foaf:</small>isPrimaryTopicOf</a>\n",
       "</td><td><ul>\n",
       "\t<li><span class=\"literal\"><a class=\"uri\" rel=\"foaf:isPrimaryTopicOf\" xmlns:foaf=\"http://xmlns.com/foaf/0.1/\" href=\"http://en.wikipedia.org/wiki/Digby_Morrell\"><small>wikipedia-en</small>:Digby_Morrell</a></span></li>\n",
       "</ul></td></tr><tr class=\"even\"><td class=\"property\"><a class=\"uri\" href=\"http://xmlns.com/foaf/0.1/name\"><small>foaf:</small>name</a>\n",
       "</td><td><ul>\n",
       "\t<li><span class=\"literal\"><span property=\"foaf:name\" xmlns:foaf=\"http://xmlns.com/foaf/0.1/\" xml:lang=\"en\">Digby Morrell</span><small> (en)</small></span></li>\n",
       "</ul></td></tr><tr class=\"odd\"><td class=\"property\"><a class=\"uri\" href=\"http://xmlns.com/foaf/0.1/surname\"><small>foaf:</small>surname</a>\n",
       "</td><td><ul>\n",
       "\t<li><span class=\"literal\"><span property=\"foaf:surname\" xmlns:foaf=\"http://xmlns.com/foaf/0.1/\" xml:lang=\"en\">Morrell</span><small> (en)</small></span></li>\n",
       "</ul></td></tr><tr class=\"even\"><td class=\"property\">is <a class=\"uri\" href=\"http://dbpedia.org/ontology/wikiPageDisambiguates\"><small>dbo:</small>wikiPageDisambiguates</a>\n",
       " of</td><td><ul>\n",
       "\t<li><span class=\"literal\"><a class=\"uri\" rev=\"dbo:wikiPageDisambiguates\" xmlns:dbo=\"http://dbpedia.org/ontology/\" href=\"http://dbpedia.org/resource/Digby\"><small>dbr</small>:Digby</a></span></li>\n",
       "\t<li><span class=\"literal\"><a class=\"uri\" rev=\"dbo:wikiPageDisambiguates\" xmlns:dbo=\"http://dbpedia.org/ontology/\" href=\"http://dbpedia.org/resource/Morrell\"><small>dbr</small>:Morrell</a></span></li>\n",
       "</ul></td></tr><tr class=\"odd\"><td class=\"property\">is <a class=\"uri\" href=\"http://xmlns.com/foaf/0.1/primaryTopic\"><small>foaf:</small>primaryTopic</a>\n",
       " of</td><td><ul>\n",
       "\t<li><span class=\"literal\"><a class=\"uri\" rev=\"foaf:primaryTopic\" xmlns:foaf=\"http://xmlns.com/foaf/0.1/\" href=\"http://en.wikipedia.org/wiki/Digby_Morrell\"><small>wikipedia-en</small>:Digby_Morrell</a></span></li>\n",
       "</ul></td></tr>\n",
       "      </table>\n",
       "    </div>\n",
       "<!-- row  -->\n",
       "</div>\n",
       "</div>\n",
       "<!-- footer -->\n",
       "<div class=\"footer\">\n",
       "    <div class=\"container\">\n",
       "\t<a href=\"http://virtuoso.openlinksw.com\" title=\"OpenLink Virtuoso\"><img class=\"powered_by\" src=\"/statics/images/virt_power_no_border.png\" alt=\"Powered by OpenLink Virtuoso\"/></a>&nbsp; &nbsp;\n",
       "\t<a href=\"http://linkeddata.org/\"><img alt=\"This material is Open Knowledge\" src=\"/statics/images/LoDLogo.gif\"/></a> &nbsp; &nbsp;\n",
       "\t<a href=\"http://dbpedia.org/sparql\"><img alt=\"W3C Semantic Web Technology\" src=\"/statics/images/sw-sparql-blue.png\"/></a> &nbsp;  &nbsp;\n",
       "\t<a href=\"http://www.opendefinition.org/\"><img alt=\"This material is Open Knowledge\" src=\"/statics/images/od_80x15_red_green.png\"/></a>&nbsp; &nbsp;\n",
       "\t<span style=\"display:none;\" about=\"\"\n",
       "\t    resource=\"http://www.w3.org/TR/rdfa-syntax\"\n",
       "\t    rel=\"dc:conformsTo\" xmlns:dc=\"http://purl.org/dc/terms/\">\n",
       "\t    <a href=\"http://validator.w3.org/check?uri=referer\">\n",
       "\t\t<img src=\"http://www.w3.org/Icons/valid-xhtml-rdfa\" alt=\"Valid XHTML + RDFa\" height=\"27px\" />\n",
       "\t    </a>\n",
       "\t</span>\n",
       "\t<br />\n",
       "\t<div class=\"text-muted\">\n",
       "\t    This content was extracted from <a href=\"http://en.wikipedia.org/wiki/Digby_Morrell\">Wikipedia</a> and is licensed under the <a href=\"http://creativecommons.org/licenses/by-sa/3.0/\">Creative Commons Attribution-ShareAlike 3.0 Unported License</a>\n",
       "\n",
       "\t</div>\n",
       "    </div>\n",
       "</div>\n",
       "<!-- #footer -->\n",
       "<!--#content-->\n",
       "    <!--script type=\"text/javascript\">\n",
       "     Place any Javascript code e.g. Google Analytics scripts\n",
       "    </script-->\n",
       "    \n",
       "    <script type=\"text/javascript\" src=\"/statics/js/jquery.min.js\"></script>\n",
       "    <script type=\"text/javascript\" src=\"/statics/js/bootstrap.min.js\"></script>\n",
       "    <script type=\"text/javascript\" src=\"/statics/js/dbpedia.js\"></script>\n",
       "</body>\n",
       "</html>\n"
      ],
      "text/plain": [
       "<IPython.core.display.HTML object>"
      ]
     },
     "execution_count": 3,
     "metadata": {},
     "output_type": "execute_result"
    }
   ],
   "source": [
    "from IPython.display import HTML\n",
    "print(wiki['text'][0])\n",
    "HTML(url=wiki['URI'][0])"
   ]
  },
  {
   "cell_type": "markdown",
   "metadata": {},
   "source": [
    "## Ex. 1: Extract word count vectors"
   ]
  },
  {
   "cell_type": "markdown",
   "metadata": {},
   "source": [
    "As we have seen in Assignment 4, we can extract word count vectors using `CountVectorizer` function.\n",
    "- make sure you include words of unit length by using the parameter: `token_pattern=r\"(?u)\\b\\w+\\b\"`\n",
    "- do not use any stopwords\n",
    "- take 10000 most frequent words in the corpus\n",
    "- explicitly take all the words independent of in how many documents they occur\n",
    "- obtain the matrix of word counts"
   ]
  },
  {
   "cell_type": "code",
   "execution_count": 4,
   "metadata": {},
   "outputs": [],
   "source": [
    "from sklearn.feature_extraction.text import CountVectorizer\n",
    "\n",
    "vectorizer = CountVectorizer(token_pattern=r\"(?u)\\b\\w+\\b\")\n",
    "vectorizer.fit(wiki['text'])\n",
    "vec = vectorizer.transform(wiki['text'])"
   ]
  },
  {
   "cell_type": "code",
   "execution_count": 5,
   "metadata": {},
   "outputs": [],
   "source": [
    "freq = np.sum(vec, axis=0)\n",
    "freq_idx = np.squeeze(np.asarray(np.argsort(freq, axis=1)[0, -10000:]))\n",
    "WCmatrix = np.transpose(vec)[freq_idx]\n",
    "WCmatrix = WCmatrix.T"
   ]
  },
  {
   "cell_type": "markdown",
   "metadata": {},
   "source": [
    "## Ex. 2: Find nearest neighbors"
   ]
  },
  {
   "cell_type": "markdown",
   "metadata": {},
   "source": [
    "**a)** Start by finding the nearest neighbors of the Barack Obama page using the above word count matrix to represent the articles and **Euclidean** distance to measure distance.\n",
    "Save the distances in `wiki['BO-eucl']` and look at the top 10 nearest neighbors."
   ]
  },
  {
   "cell_type": "code",
   "execution_count": 6,
   "metadata": {},
   "outputs": [
    {
     "data": {
      "text/html": [
       "<div>\n",
       "<style scoped>\n",
       "    .dataframe tbody tr th:only-of-type {\n",
       "        vertical-align: middle;\n",
       "    }\n",
       "\n",
       "    .dataframe tbody tr th {\n",
       "        vertical-align: top;\n",
       "    }\n",
       "\n",
       "    .dataframe thead th {\n",
       "        text-align: right;\n",
       "    }\n",
       "</style>\n",
       "<table border=\"1\" class=\"dataframe\">\n",
       "  <thead>\n",
       "    <tr style=\"text-align: right;\">\n",
       "      <th></th>\n",
       "      <th>URI</th>\n",
       "      <th>name</th>\n",
       "      <th>text</th>\n",
       "      <th>BO-eucl</th>\n",
       "    </tr>\n",
       "  </thead>\n",
       "  <tbody>\n",
       "    <tr>\n",
       "      <th>35817</th>\n",
       "      <td>&lt;http://dbpedia.org/resource/Barack_Obama&gt;</td>\n",
       "      <td>Barack Obama</td>\n",
       "      <td>barack hussein obama ii brk husen bm born augu...</td>\n",
       "      <td>0.000000</td>\n",
       "    </tr>\n",
       "    <tr>\n",
       "      <th>24478</th>\n",
       "      <td>&lt;http://dbpedia.org/resource/Joe_Biden&gt;</td>\n",
       "      <td>Joe Biden</td>\n",
       "      <td>joseph robinette joe biden jr dosf rbnt badn b...</td>\n",
       "      <td>31.336879</td>\n",
       "    </tr>\n",
       "    <tr>\n",
       "      <th>28447</th>\n",
       "      <td>&lt;http://dbpedia.org/resource/George_W._Bush&gt;</td>\n",
       "      <td>George W. Bush</td>\n",
       "      <td>george walker bush born july 6 1946 is an amer...</td>\n",
       "      <td>33.645208</td>\n",
       "    </tr>\n",
       "    <tr>\n",
       "      <th>48202</th>\n",
       "      <td>&lt;http://dbpedia.org/resource/Tony_Vaccaro&gt;</td>\n",
       "      <td>Tony Vaccaro</td>\n",
       "      <td>michelantonio celestino onofrio vaccaro born d...</td>\n",
       "      <td>33.734256</td>\n",
       "    </tr>\n",
       "    <tr>\n",
       "      <th>14754</th>\n",
       "      <td>&lt;http://dbpedia.org/resource/Mitt_Romney&gt;</td>\n",
       "      <td>Mitt Romney</td>\n",
       "      <td>willard mitt romney born march 12 1947 is an a...</td>\n",
       "      <td>34.351128</td>\n",
       "    </tr>\n",
       "    <tr>\n",
       "      <th>...</th>\n",
       "      <td>...</td>\n",
       "      <td>...</td>\n",
       "      <td>...</td>\n",
       "      <td>...</td>\n",
       "    </tr>\n",
       "    <tr>\n",
       "      <th>55495</th>\n",
       "      <td>&lt;http://dbpedia.org/resource/Lokman_Singh_Karki&gt;</td>\n",
       "      <td>Lokman Singh Karki</td>\n",
       "      <td>lokman singh karki nepali about this sound lis...</td>\n",
       "      <td>229.368699</td>\n",
       "    </tr>\n",
       "    <tr>\n",
       "      <th>49830</th>\n",
       "      <td>&lt;http://dbpedia.org/resource/Lauro_Baja&gt;</td>\n",
       "      <td>Lauro Baja</td>\n",
       "      <td>lauro l baja jr was the permanent representati...</td>\n",
       "      <td>238.891189</td>\n",
       "    </tr>\n",
       "    <tr>\n",
       "      <th>8806</th>\n",
       "      <td>&lt;http://dbpedia.org/resource/Sadamu_Uriu&gt;</td>\n",
       "      <td>Sadamu Uriu</td>\n",
       "      <td>mestre sadamu uriu representante oficial da ja...</td>\n",
       "      <td>280.487076</td>\n",
       "    </tr>\n",
       "    <tr>\n",
       "      <th>1681</th>\n",
       "      <td>&lt;http://dbpedia.org/resource/Abe_Gupta&gt;</td>\n",
       "      <td>Abe Gupta</td>\n",
       "      <td>abe gupta is an american politician and a memb...</td>\n",
       "      <td>397.200201</td>\n",
       "    </tr>\n",
       "    <tr>\n",
       "      <th>40208</th>\n",
       "      <td>&lt;http://dbpedia.org/resource/Kcho&gt;</td>\n",
       "      <td>Kcho</td>\n",
       "      <td>kchosometimes spelled kcho born alexis leiva m...</td>\n",
       "      <td>573.808330</td>\n",
       "    </tr>\n",
       "  </tbody>\n",
       "</table>\n",
       "<p>59071 rows × 4 columns</p>\n",
       "</div>"
      ],
      "text/plain": [
       "                                                    URI                name  \\\n",
       "35817        <http://dbpedia.org/resource/Barack_Obama>        Barack Obama   \n",
       "24478           <http://dbpedia.org/resource/Joe_Biden>           Joe Biden   \n",
       "28447      <http://dbpedia.org/resource/George_W._Bush>      George W. Bush   \n",
       "48202        <http://dbpedia.org/resource/Tony_Vaccaro>        Tony Vaccaro   \n",
       "14754         <http://dbpedia.org/resource/Mitt_Romney>         Mitt Romney   \n",
       "...                                                 ...                 ...   \n",
       "55495  <http://dbpedia.org/resource/Lokman_Singh_Karki>  Lokman Singh Karki   \n",
       "49830          <http://dbpedia.org/resource/Lauro_Baja>          Lauro Baja   \n",
       "8806          <http://dbpedia.org/resource/Sadamu_Uriu>         Sadamu Uriu   \n",
       "1681            <http://dbpedia.org/resource/Abe_Gupta>           Abe Gupta   \n",
       "40208                <http://dbpedia.org/resource/Kcho>                Kcho   \n",
       "\n",
       "                                                    text     BO-eucl  \n",
       "35817  barack hussein obama ii brk husen bm born augu...    0.000000  \n",
       "24478  joseph robinette joe biden jr dosf rbnt badn b...   31.336879  \n",
       "28447  george walker bush born july 6 1946 is an amer...   33.645208  \n",
       "48202  michelantonio celestino onofrio vaccaro born d...   33.734256  \n",
       "14754  willard mitt romney born march 12 1947 is an a...   34.351128  \n",
       "...                                                  ...         ...  \n",
       "55495  lokman singh karki nepali about this sound lis...  229.368699  \n",
       "49830  lauro l baja jr was the permanent representati...  238.891189  \n",
       "8806   mestre sadamu uriu representante oficial da ja...  280.487076  \n",
       "1681   abe gupta is an american politician and a memb...  397.200201  \n",
       "40208  kchosometimes spelled kcho born alexis leiva m...  573.808330  \n",
       "\n",
       "[59071 rows x 4 columns]"
      ]
     },
     "execution_count": 6,
     "metadata": {},
     "output_type": "execute_result"
    }
   ],
   "source": [
    "# One can use the following:\n",
    "    # from sklearn.neighbors import NearestNeighbors\n",
    "    # nbrs = NearestNeighbors(n_neighbors=3, algorithm='brute',metric='euclidean').fit(X.toarray())\n",
    "    # distances, indices = nbrs.kneighbors(X.toarray())\n",
    "# but here let's use:\n",
    "from sklearn.metrics import pairwise_distances\n",
    "arr = WCmatrix[wiki.loc[wiki['name']=='Barack Obama'].index]\n",
    "dist = pairwise_distances(WCmatrix, arr)\n",
    "wiki['BO-eucl'] = dist\n",
    "wiki.sort_values(by='BO-eucl')\n",
    "# Your code goes here\n"
   ]
  },
  {
   "cell_type": "markdown",
   "metadata": {},
   "source": [
    "**b)** Measure the pairwise distance between the Wikipedia pages of Barack Obama, George W. Bush, and Joe Biden. Which of the three pairs has the smallest distance?"
   ]
  },
  {
   "cell_type": "code",
   "execution_count": 7,
   "metadata": {},
   "outputs": [
    {
     "data": {
      "text/plain": [
       "(array([[33.64520768]]), array([[30.91924967]]), array([[31.33687923]]))"
      ]
     },
     "execution_count": 7,
     "metadata": {},
     "output_type": "execute_result"
    }
   ],
   "source": [
    "obama = WCmatrix[wiki.loc[wiki['name']=='Barack Obama'].index]\n",
    "bush = WCmatrix[wiki.loc[wiki['name']=='George W. Bush'].index]\n",
    "biden = WCmatrix[wiki.loc[wiki['name']=='Joe Biden'].index]\n",
    "\n",
    "pairwise_distances(obama, bush), pairwise_distances(bush, biden), pairwise_distances(obama, biden)"
   ]
  },
  {
   "cell_type": "markdown",
   "metadata": {},
   "source": [
    "All of the 10 people from **a)** are politicians, but about half of them have rather tenuous connections with Obama, other than the fact that they are politicians, e.g.,\n",
    "\n",
    "* Francisco Barrio is a Mexican politician, and a former governor of Chihuahua.\n",
    "* Walter Mondale and Don Bonker are Democrats who made their career in late 1970s.\n",
    "\n",
    "Nearest neighbors with raw word counts got some things right, showing all politicians in the query result, but missed finer and important details."
   ]
  },
  {
   "cell_type": "markdown",
   "metadata": {},
   "source": [
    "**c)** Let's find out why Francisco Barrio was considered a close neighbor of Obama.\n",
    "To do this, look at the most frequently used words in each of Barack Obama and Francisco Barrio's pages."
   ]
  },
  {
   "cell_type": "code",
   "execution_count": 8,
   "metadata": {},
   "outputs": [],
   "source": [
    "def top_words(name):\n",
    "    \"\"\"\n",
    "    Get a table of the most frequent words in the given person's wikipedia page.\n",
    "    \"\"\"\n",
    "    vectorizer = CountVectorizer(token_pattern=r\"(?u)\\b\\w+\\b\")\n",
    "    vec = vectorizer.fit_transform(wiki.loc[wiki['name']==name, 'text'])\n",
    "    df = pd.DataFrame(\n",
    "        data={\n",
    "            'count': np.squeeze(vec.toarray()),\n",
    "            'word': vectorizer.get_feature_names()\n",
    "        }\n",
    "    )\n",
    "    return df.sort_values(by='count',ascending=False)"
   ]
  },
  {
   "cell_type": "code",
   "execution_count": 9,
   "metadata": {
    "jupyter": {
     "outputs_hidden": false
    }
   },
   "outputs": [
    {
     "data": {
      "text/html": [
       "<div>\n",
       "<style scoped>\n",
       "    .dataframe tbody tr th:only-of-type {\n",
       "        vertical-align: middle;\n",
       "    }\n",
       "\n",
       "    .dataframe tbody tr th {\n",
       "        vertical-align: top;\n",
       "    }\n",
       "\n",
       "    .dataframe thead th {\n",
       "        text-align: right;\n",
       "    }\n",
       "</style>\n",
       "<table border=\"1\" class=\"dataframe\">\n",
       "  <thead>\n",
       "    <tr style=\"text-align: right;\">\n",
       "      <th></th>\n",
       "      <th>count</th>\n",
       "      <th>word</th>\n",
       "    </tr>\n",
       "  </thead>\n",
       "  <tbody>\n",
       "    <tr>\n",
       "      <th>245</th>\n",
       "      <td>40</td>\n",
       "      <td>the</td>\n",
       "    </tr>\n",
       "    <tr>\n",
       "      <th>118</th>\n",
       "      <td>30</td>\n",
       "      <td>in</td>\n",
       "    </tr>\n",
       "    <tr>\n",
       "      <th>31</th>\n",
       "      <td>21</td>\n",
       "      <td>and</td>\n",
       "    </tr>\n",
       "    <tr>\n",
       "      <th>165</th>\n",
       "      <td>18</td>\n",
       "      <td>of</td>\n",
       "    </tr>\n",
       "    <tr>\n",
       "      <th>248</th>\n",
       "      <td>14</td>\n",
       "      <td>to</td>\n",
       "    </tr>\n",
       "    <tr>\n",
       "      <th>...</th>\n",
       "      <td>...</td>\n",
       "      <td>...</td>\n",
       "    </tr>\n",
       "    <tr>\n",
       "      <th>112</th>\n",
       "      <td>1</td>\n",
       "      <td>hook</td>\n",
       "    </tr>\n",
       "    <tr>\n",
       "      <th>114</th>\n",
       "      <td>1</td>\n",
       "      <td>husen</td>\n",
       "    </tr>\n",
       "    <tr>\n",
       "      <th>115</th>\n",
       "      <td>1</td>\n",
       "      <td>hussein</td>\n",
       "    </tr>\n",
       "    <tr>\n",
       "      <th>116</th>\n",
       "      <td>1</td>\n",
       "      <td>ii</td>\n",
       "    </tr>\n",
       "    <tr>\n",
       "      <th>272</th>\n",
       "      <td>1</td>\n",
       "      <td>years</td>\n",
       "    </tr>\n",
       "  </tbody>\n",
       "</table>\n",
       "<p>273 rows × 2 columns</p>\n",
       "</div>"
      ],
      "text/plain": [
       "     count     word\n",
       "245     40      the\n",
       "118     30       in\n",
       "31      21      and\n",
       "165     18       of\n",
       "248     14       to\n",
       "..     ...      ...\n",
       "112      1     hook\n",
       "114      1    husen\n",
       "115      1  hussein\n",
       "116      1       ii\n",
       "272      1    years\n",
       "\n",
       "[273 rows x 2 columns]"
      ]
     },
     "execution_count": 9,
     "metadata": {},
     "output_type": "execute_result"
    }
   ],
   "source": [
    "obama_words = top_words('Barack Obama')\n",
    "obama_words"
   ]
  },
  {
   "cell_type": "code",
   "execution_count": 10,
   "metadata": {},
   "outputs": [
    {
     "data": {
      "text/html": [
       "<div>\n",
       "<style scoped>\n",
       "    .dataframe tbody tr th:only-of-type {\n",
       "        vertical-align: middle;\n",
       "    }\n",
       "\n",
       "    .dataframe tbody tr th {\n",
       "        vertical-align: top;\n",
       "    }\n",
       "\n",
       "    .dataframe thead th {\n",
       "        text-align: right;\n",
       "    }\n",
       "</style>\n",
       "<table border=\"1\" class=\"dataframe\">\n",
       "  <thead>\n",
       "    <tr style=\"text-align: right;\">\n",
       "      <th></th>\n",
       "      <th>count</th>\n",
       "      <th>word</th>\n",
       "    </tr>\n",
       "  </thead>\n",
       "  <tbody>\n",
       "    <tr>\n",
       "      <th>204</th>\n",
       "      <td>36</td>\n",
       "      <td>the</td>\n",
       "    </tr>\n",
       "    <tr>\n",
       "      <th>147</th>\n",
       "      <td>24</td>\n",
       "      <td>of</td>\n",
       "    </tr>\n",
       "    <tr>\n",
       "      <th>23</th>\n",
       "      <td>18</td>\n",
       "      <td>and</td>\n",
       "    </tr>\n",
       "    <tr>\n",
       "      <th>102</th>\n",
       "      <td>17</td>\n",
       "      <td>in</td>\n",
       "    </tr>\n",
       "    <tr>\n",
       "      <th>95</th>\n",
       "      <td>10</td>\n",
       "      <td>he</td>\n",
       "    </tr>\n",
       "    <tr>\n",
       "      <th>...</th>\n",
       "      <td>...</td>\n",
       "      <td>...</td>\n",
       "    </tr>\n",
       "    <tr>\n",
       "      <th>86</th>\n",
       "      <td>1</td>\n",
       "      <td>francisco</td>\n",
       "    </tr>\n",
       "    <tr>\n",
       "      <th>88</th>\n",
       "      <td>1</td>\n",
       "      <td>good</td>\n",
       "    </tr>\n",
       "    <tr>\n",
       "      <th>89</th>\n",
       "      <td>1</td>\n",
       "      <td>governance</td>\n",
       "    </tr>\n",
       "    <tr>\n",
       "      <th>91</th>\n",
       "      <td>1</td>\n",
       "      <td>governors</td>\n",
       "    </tr>\n",
       "    <tr>\n",
       "      <th>112</th>\n",
       "      <td>1</td>\n",
       "      <td>javier</td>\n",
       "    </tr>\n",
       "  </tbody>\n",
       "</table>\n",
       "<p>225 rows × 2 columns</p>\n",
       "</div>"
      ],
      "text/plain": [
       "     count        word\n",
       "204     36         the\n",
       "147     24          of\n",
       "23      18         and\n",
       "102     17          in\n",
       "95      10          he\n",
       "..     ...         ...\n",
       "86       1   francisco\n",
       "88       1        good\n",
       "89       1  governance\n",
       "91       1   governors\n",
       "112      1      javier\n",
       "\n",
       "[225 rows x 2 columns]"
      ]
     },
     "execution_count": 10,
     "metadata": {},
     "output_type": "execute_result"
    }
   ],
   "source": [
    "barrio_words = top_words('Francisco Barrio')\n",
    "barrio_words"
   ]
  },
  {
   "cell_type": "markdown",
   "metadata": {},
   "source": [
    "**d)** Extract the list of most frequent **common** words that appear in both Obama's and Barrio's documents and display the five words that appear most often in Barrio's article.\n",
    "\n",
    "Use a dataframe operation known as **join**. The **join** operation is very useful when it comes to playing around with data: it lets you combine the content of two tables using a shared column (in this case, the index column of words). See [the documentation](https://pandas.pydata.org/pandas-docs/stable/reference/api/pandas.DataFrame.join.html) for more details."
   ]
  },
  {
   "cell_type": "code",
   "execution_count": 11,
   "metadata": {
    "jupyter": {
     "outputs_hidden": false
    }
   },
   "outputs": [
    {
     "data": {
      "text/html": [
       "<div>\n",
       "<style scoped>\n",
       "    .dataframe tbody tr th:only-of-type {\n",
       "        vertical-align: middle;\n",
       "    }\n",
       "\n",
       "    .dataframe tbody tr th {\n",
       "        vertical-align: top;\n",
       "    }\n",
       "\n",
       "    .dataframe thead th {\n",
       "        text-align: right;\n",
       "    }\n",
       "</style>\n",
       "<table border=\"1\" class=\"dataframe\">\n",
       "  <thead>\n",
       "    <tr style=\"text-align: right;\">\n",
       "      <th></th>\n",
       "      <th>count_Obama</th>\n",
       "      <th>word</th>\n",
       "      <th>count_Barrio</th>\n",
       "    </tr>\n",
       "  </thead>\n",
       "  <tbody>\n",
       "    <tr>\n",
       "      <th>245</th>\n",
       "      <td>40</td>\n",
       "      <td>the</td>\n",
       "      <td>36</td>\n",
       "    </tr>\n",
       "    <tr>\n",
       "      <th>165</th>\n",
       "      <td>18</td>\n",
       "      <td>of</td>\n",
       "      <td>24</td>\n",
       "    </tr>\n",
       "    <tr>\n",
       "      <th>31</th>\n",
       "      <td>21</td>\n",
       "      <td>and</td>\n",
       "      <td>18</td>\n",
       "    </tr>\n",
       "    <tr>\n",
       "      <th>118</th>\n",
       "      <td>30</td>\n",
       "      <td>in</td>\n",
       "      <td>17</td>\n",
       "    </tr>\n",
       "    <tr>\n",
       "      <th>107</th>\n",
       "      <td>7</td>\n",
       "      <td>he</td>\n",
       "      <td>10</td>\n",
       "    </tr>\n",
       "  </tbody>\n",
       "</table>\n",
       "</div>"
      ],
      "text/plain": [
       "     count_Obama word  count_Barrio\n",
       "245           40  the            36\n",
       "165           18   of            24\n",
       "31            21  and            18\n",
       "118           30   in            17\n",
       "107            7   he            10"
      ]
     },
     "execution_count": 11,
     "metadata": {},
     "output_type": "execute_result"
    }
   ],
   "source": [
    "# Modify the code to avoid error.\n",
    "common_words = obama_words.join(other=barrio_words.set_index('word'), on='word', how='inner', lsuffix=\"_Obama\", rsuffix=\"_Barrio\")\n",
    "common_words.sort_values(by='count_Barrio', ascending=False).head(5)"
   ]
  },
  {
   "cell_type": "markdown",
   "metadata": {},
   "source": [
    "Collect all words that appear both in Barack Obama and George W. Bush pages.  Out of those words, find the 10 words that show up most often in Obama's page. "
   ]
  },
  {
   "cell_type": "code",
   "execution_count": 12,
   "metadata": {},
   "outputs": [
    {
     "data": {
      "text/html": [
       "<div>\n",
       "<style scoped>\n",
       "    .dataframe tbody tr th:only-of-type {\n",
       "        vertical-align: middle;\n",
       "    }\n",
       "\n",
       "    .dataframe tbody tr th {\n",
       "        vertical-align: top;\n",
       "    }\n",
       "\n",
       "    .dataframe thead th {\n",
       "        text-align: right;\n",
       "    }\n",
       "</style>\n",
       "<table border=\"1\" class=\"dataframe\">\n",
       "  <thead>\n",
       "    <tr style=\"text-align: right;\">\n",
       "      <th></th>\n",
       "      <th>count_Obama</th>\n",
       "      <th>word</th>\n",
       "      <th>count_Bush</th>\n",
       "    </tr>\n",
       "  </thead>\n",
       "  <tbody>\n",
       "    <tr>\n",
       "      <th>245</th>\n",
       "      <td>40</td>\n",
       "      <td>the</td>\n",
       "      <td>39</td>\n",
       "    </tr>\n",
       "    <tr>\n",
       "      <th>118</th>\n",
       "      <td>30</td>\n",
       "      <td>in</td>\n",
       "      <td>22</td>\n",
       "    </tr>\n",
       "    <tr>\n",
       "      <th>31</th>\n",
       "      <td>21</td>\n",
       "      <td>and</td>\n",
       "      <td>14</td>\n",
       "    </tr>\n",
       "    <tr>\n",
       "      <th>165</th>\n",
       "      <td>18</td>\n",
       "      <td>of</td>\n",
       "      <td>14</td>\n",
       "    </tr>\n",
       "    <tr>\n",
       "      <th>248</th>\n",
       "      <td>14</td>\n",
       "      <td>to</td>\n",
       "      <td>11</td>\n",
       "    </tr>\n",
       "    <tr>\n",
       "      <th>109</th>\n",
       "      <td>11</td>\n",
       "      <td>his</td>\n",
       "      <td>6</td>\n",
       "    </tr>\n",
       "    <tr>\n",
       "      <th>21</th>\n",
       "      <td>8</td>\n",
       "      <td>act</td>\n",
       "      <td>3</td>\n",
       "    </tr>\n",
       "    <tr>\n",
       "      <th>20</th>\n",
       "      <td>7</td>\n",
       "      <td>a</td>\n",
       "      <td>6</td>\n",
       "    </tr>\n",
       "    <tr>\n",
       "      <th>107</th>\n",
       "      <td>7</td>\n",
       "      <td>he</td>\n",
       "      <td>8</td>\n",
       "    </tr>\n",
       "    <tr>\n",
       "      <th>33</th>\n",
       "      <td>6</td>\n",
       "      <td>as</td>\n",
       "      <td>6</td>\n",
       "    </tr>\n",
       "  </tbody>\n",
       "</table>\n",
       "</div>"
      ],
      "text/plain": [
       "     count_Obama word  count_Bush\n",
       "245           40  the          39\n",
       "118           30   in          22\n",
       "31            21  and          14\n",
       "165           18   of          14\n",
       "248           14   to          11\n",
       "109           11  his           6\n",
       "21             8  act           3\n",
       "20             7    a           6\n",
       "107            7   he           8\n",
       "33             6   as           6"
      ]
     },
     "execution_count": 12,
     "metadata": {},
     "output_type": "execute_result"
    }
   ],
   "source": [
    "bush_words = top_words('George W. Bush')\n",
    "# Modify the code to avoid error.\n",
    "common_words = obama_words.join(bush_words.set_index('word'), on='word', how='inner', lsuffix=\"_Obama\", rsuffix=\"_Bush\")\n",
    "common_words.sort_values(by='count_Obama', ascending=False).head(10)"
   ]
  },
  {
   "cell_type": "markdown",
   "metadata": {},
   "source": [
    "**Note.** Even though common words are swamping out important subtle differences, commonalities in rarer political words still matter on the margin. This is why politicians are being listed in the query result instead of musicians, for example. In the next subsection, we will introduce a different metric that will place greater emphasis on those rarer words."
   ]
  },
  {
   "cell_type": "markdown",
   "metadata": {},
   "source": [
    "**e)** Among the words that appear in both Barack Obama and Francisco Barrio, take the 15 that appear most frequently in Obama. How many of the articles in the Wikipedia dataset contain all of those 15 words? Which are they?"
   ]
  },
  {
   "cell_type": "code",
   "execution_count": 13,
   "metadata": {},
   "outputs": [
    {
     "data": {
      "text/plain": [
       "30"
      ]
     },
     "execution_count": 13,
     "metadata": {},
     "output_type": "execute_result"
    }
   ],
   "source": [
    "# It might be helpful to use:\n",
    "word_to_ind={v: i for i, v in enumerate(vectorizer.get_feature_names())} # a dictionary with words as keys and indices as values\n",
    "\n",
    "common_words = obama_words.join(other=barrio_words.set_index('word'), on='word', how='inner', lsuffix=\"_Obama\", rsuffix=\"_Barrio\")\n",
    "words = common_words.sort_values(by='count_Obama', ascending=False).head(15)['word']\n",
    "indices = [word_to_ind.get(w) for w in words]\n",
    "\n",
    "articles = None\n",
    "for idx in indices:\n",
    "    if articles is None :\n",
    "        articles = (vec[:, idx] > 0).A\n",
    "        continue\n",
    "    articles = ( vec[:, idx] > 0 ).A & articles\n",
    "    \n",
    "articles.sum()"
   ]
  },
  {
   "cell_type": "code",
   "execution_count": 14,
   "metadata": {},
   "outputs": [
    {
     "data": {
      "text/plain": [
       "1177                            Donald Fowler\n",
       "1413                            Chris Redfern\n",
       "3400                            James Bilbray\n",
       "4004                              Paul Kagame\n",
       "4874                            Bernard Kenny\n",
       "6617                               Paul Sarlo\n",
       "11316                Gy%C3%B6rgy Sur%C3%A1nyi\n",
       "12371                         Morley Winograd\n",
       "12743                 David Ibarra Mu%C3%B1oz\n",
       "13229                        Francisco Barrio\n",
       "16095    Charles Taylor (Liberian politician)\n",
       "24417                           Jesse Ventura\n",
       "24478                               Joe Biden\n",
       "28447                          George W. Bush\n",
       "29505                        Arturo Vallarino\n",
       "33744                        John O. Agwunobi\n",
       "35541                            Jimmy Carter\n",
       "35817                            Barack Obama\n",
       "36452                            Bill Clinton\n",
       "38081                          John Garamendi\n",
       "39489                          Helmut Anheier\n",
       "40229                            Edward Rowny\n",
       "42934      Henry Sanders (Alabama politician)\n",
       "48253                 Saber Hossain Chowdhury\n",
       "50868                           Russell Trood\n",
       "52229                     Robert Lewis Morgan\n",
       "53102                             Ewart Brown\n",
       "54765                 Chuck Wolfe (executive)\n",
       "55495                      Lokman Singh Karki\n",
       "56172                               Hu Jintao\n",
       "Name: name, dtype: object"
      ]
     },
     "execution_count": 14,
     "metadata": {},
     "output_type": "execute_result"
    }
   ],
   "source": [
    "wiki[articles]['name']"
   ]
  },
  {
   "cell_type": "markdown",
   "metadata": {},
   "source": [
    "## Ex. 3: TF-IDF to the rescue"
   ]
  },
  {
   "cell_type": "markdown",
   "metadata": {},
   "source": [
    "Much of the perceived commonalities between Obama and Barrio were due to occurrences of extremely frequent words, such as \"the\", \"and\", and \"his\". So nearest neighbors is recommending plausible results sometimes for the wrong reasons.\n",
    "\n",
    "To retrieve articles that are more relevant, we should focus more on rare words that don't happen in every article. **TF-IDF** (term frequency–inverse document frequency) is a feature representation that penalizes words that are too common."
   ]
  },
  {
   "cell_type": "markdown",
   "metadata": {},
   "source": [
    "**a)** Repeat the search for the 10 nearest neighbors of Barack Obama with Euclidean distance of TF-IDF. This time do not limit to only 10000 most frequent words, but take all of them."
   ]
  },
  {
   "cell_type": "code",
   "execution_count": 15,
   "metadata": {},
   "outputs": [],
   "source": [
    "# We could use:\n",
    "    # from sklearn.feature_extraction.text import TfidfVectorizer\n",
    "# but since we already know how to compute CountVectorizer, let's use:\n",
    "from sklearn.feature_extraction.text import TfidfTransformer\n",
    "\n",
    "vectorizer = CountVectorizer(token_pattern=r\"(?u)\\b\\w+\\b\")\n",
    "vec = vectorizer.fit_transform(wiki['text'])\n",
    "tfidf=TfidfTransformer(smooth_idf=False, norm=None)\n",
    "TFIDFmatrix = tfidf.fit_transform(vec)"
   ]
  },
  {
   "cell_type": "code",
   "execution_count": 16,
   "metadata": {},
   "outputs": [
    {
     "data": {
      "text/html": [
       "<div>\n",
       "<style scoped>\n",
       "    .dataframe tbody tr th:only-of-type {\n",
       "        vertical-align: middle;\n",
       "    }\n",
       "\n",
       "    .dataframe tbody tr th {\n",
       "        vertical-align: top;\n",
       "    }\n",
       "\n",
       "    .dataframe thead th {\n",
       "        text-align: right;\n",
       "    }\n",
       "</style>\n",
       "<table border=\"1\" class=\"dataframe\">\n",
       "  <thead>\n",
       "    <tr style=\"text-align: right;\">\n",
       "      <th></th>\n",
       "      <th>name</th>\n",
       "      <th>BO-eucl-TF-IDF</th>\n",
       "    </tr>\n",
       "  </thead>\n",
       "  <tbody>\n",
       "    <tr>\n",
       "      <th>35817</th>\n",
       "      <td>Barack Obama</td>\n",
       "      <td>0.000000</td>\n",
       "    </tr>\n",
       "    <tr>\n",
       "      <th>38376</th>\n",
       "      <td>Samantha Power</td>\n",
       "      <td>139.364493</td>\n",
       "    </tr>\n",
       "    <tr>\n",
       "      <th>46811</th>\n",
       "      <td>Jeff Sessions</td>\n",
       "      <td>139.757740</td>\n",
       "    </tr>\n",
       "    <tr>\n",
       "      <th>7914</th>\n",
       "      <td>Phil Schiliro</td>\n",
       "      <td>139.812175</td>\n",
       "    </tr>\n",
       "    <tr>\n",
       "      <th>38714</th>\n",
       "      <td>Eric Stern (politician)</td>\n",
       "      <td>140.450064</td>\n",
       "    </tr>\n",
       "    <tr>\n",
       "      <th>...</th>\n",
       "      <td>...</td>\n",
       "      <td>...</td>\n",
       "    </tr>\n",
       "    <tr>\n",
       "      <th>17589</th>\n",
       "      <td>Mohamed Sillah</td>\n",
       "      <td>763.523987</td>\n",
       "    </tr>\n",
       "    <tr>\n",
       "      <th>18032</th>\n",
       "      <td>Akhtar Mohiuddin</td>\n",
       "      <td>867.740533</td>\n",
       "    </tr>\n",
       "    <tr>\n",
       "      <th>40208</th>\n",
       "      <td>Kcho</td>\n",
       "      <td>1173.683128</td>\n",
       "    </tr>\n",
       "    <tr>\n",
       "      <th>1681</th>\n",
       "      <td>Abe Gupta</td>\n",
       "      <td>1375.468452</td>\n",
       "    </tr>\n",
       "    <tr>\n",
       "      <th>8806</th>\n",
       "      <td>Sadamu Uriu</td>\n",
       "      <td>1744.144727</td>\n",
       "    </tr>\n",
       "  </tbody>\n",
       "</table>\n",
       "<p>59071 rows × 2 columns</p>\n",
       "</div>"
      ],
      "text/plain": [
       "                          name  BO-eucl-TF-IDF\n",
       "35817             Barack Obama        0.000000\n",
       "38376           Samantha Power      139.364493\n",
       "46811            Jeff Sessions      139.757740\n",
       "7914             Phil Schiliro      139.812175\n",
       "38714  Eric Stern (politician)      140.450064\n",
       "...                        ...             ...\n",
       "17589           Mohamed Sillah      763.523987\n",
       "18032         Akhtar Mohiuddin      867.740533\n",
       "40208                     Kcho     1173.683128\n",
       "1681                 Abe Gupta     1375.468452\n",
       "8806               Sadamu Uriu     1744.144727\n",
       "\n",
       "[59071 rows x 2 columns]"
      ]
     },
     "execution_count": 16,
     "metadata": {},
     "output_type": "execute_result"
    }
   ],
   "source": [
    "arr = TFIDFmatrix[wiki.loc[wiki['name']=='Barack Obama'].index]\n",
    "dist = pairwise_distances(TFIDFmatrix, arr)\n",
    "wiki['BO-eucl-TF-IDF'] = dist\n",
    "wiki.sort_values(by='BO-eucl-TF-IDF')[['name', 'BO-eucl-TF-IDF']]"
   ]
  },
  {
   "cell_type": "markdown",
   "metadata": {},
   "source": [
    "Let's determine whether this list makes sense.\n",
    "* With a notable exception of Nathan Cullen, the other 8 are all American politicians who are contemporaries of Barack Obama.\n",
    "* Phil Schiliro, Jesse Lee, Samantha Power, Eric Stern, Eric Holder worked for Obama.\n",
    "\n",
    "Clearly, the results are more plausible with the use of TF-IDF. Let's take a look at the word vector for Obama and Schilirio's pages. Notice that TF-IDF representation assigns a weight to each word. This weight captures relative importance of that word in the document."
   ]
  },
  {
   "cell_type": "markdown",
   "metadata": {},
   "source": [
    "**b)** Sort the words in Obama's article by their TF-IDF weights; do the same for Schiliro's article as well.\n",
    "Using the **join** operation we learned earlier, compute the common words shared by Obama's and Schiliro's articles.\n",
    "Sort the common words by their TF-IDF weights in Obama's document."
   ]
  },
  {
   "cell_type": "code",
   "execution_count": 17,
   "metadata": {},
   "outputs": [],
   "source": [
    "def top_words_tf_idf(name):\n",
    "    \"\"\"\n",
    "    Get a table of the largest tf-idf words in the given person's wikipedia page.\n",
    "    \"\"\"\n",
    "    idx = wiki.loc[wiki['name'] == name].index\n",
    "    df = pd.DataFrame(\n",
    "        data={\n",
    "            'tf-idf': np.squeeze(TFIDFmatrix[idx].toarray()),\n",
    "            'word': vectorizer.get_feature_names()\n",
    "        }\n",
    "    )\n",
    "    \n",
    "    return df.sort_values(by='tf-idf',ascending=False)"
   ]
  },
  {
   "cell_type": "code",
   "execution_count": 18,
   "metadata": {
    "jupyter": {
     "outputs_hidden": false
    }
   },
   "outputs": [
    {
     "data": {
      "text/html": [
       "<div>\n",
       "<style scoped>\n",
       "    .dataframe tbody tr th:only-of-type {\n",
       "        vertical-align: middle;\n",
       "    }\n",
       "\n",
       "    .dataframe tbody tr th {\n",
       "        vertical-align: top;\n",
       "    }\n",
       "\n",
       "    .dataframe thead th {\n",
       "        text-align: right;\n",
       "    }\n",
       "</style>\n",
       "<table border=\"1\" class=\"dataframe\">\n",
       "  <thead>\n",
       "    <tr style=\"text-align: right;\">\n",
       "      <th></th>\n",
       "      <th>tf-idf_Obama</th>\n",
       "      <th>word</th>\n",
       "      <th>tf-idf_Schiliro</th>\n",
       "    </tr>\n",
       "  </thead>\n",
       "  <tbody>\n",
       "    <tr>\n",
       "      <th>358582</th>\n",
       "      <td>52.295653</td>\n",
       "      <td>obama</td>\n",
       "      <td>11.621256</td>\n",
       "    </tr>\n",
       "    <tr>\n",
       "      <th>488178</th>\n",
       "      <td>40.004063</td>\n",
       "      <td>the</td>\n",
       "      <td>10.001016</td>\n",
       "    </tr>\n",
       "    <tr>\n",
       "      <th>251924</th>\n",
       "      <td>30.028962</td>\n",
       "      <td>in</td>\n",
       "      <td>5.004827</td>\n",
       "    </tr>\n",
       "    <tr>\n",
       "      <th>58917</th>\n",
       "      <td>21.015648</td>\n",
       "      <td>and</td>\n",
       "      <td>6.004471</td>\n",
       "    </tr>\n",
       "    <tr>\n",
       "      <th>292533</th>\n",
       "      <td>20.722936</td>\n",
       "      <td>law</td>\n",
       "      <td>10.361468</td>\n",
       "    </tr>\n",
       "    <tr>\n",
       "      <th>360093</th>\n",
       "      <td>18.074811</td>\n",
       "      <td>of</td>\n",
       "      <td>9.037406</td>\n",
       "    </tr>\n",
       "    <tr>\n",
       "      <th>155950</th>\n",
       "      <td>16.410689</td>\n",
       "      <td>democratic</td>\n",
       "      <td>8.205344</td>\n",
       "    </tr>\n",
       "    <tr>\n",
       "      <th>494571</th>\n",
       "      <td>14.657229</td>\n",
       "      <td>to</td>\n",
       "      <td>7.328615</td>\n",
       "    </tr>\n",
       "    <tr>\n",
       "      <th>239289</th>\n",
       "      <td>13.888726</td>\n",
       "      <td>his</td>\n",
       "      <td>1.262611</td>\n",
       "    </tr>\n",
       "    <tr>\n",
       "      <th>442624</th>\n",
       "      <td>13.164288</td>\n",
       "      <td>senate</td>\n",
       "      <td>4.388096</td>\n",
       "    </tr>\n",
       "    <tr>\n",
       "      <th>395624</th>\n",
       "      <td>11.226869</td>\n",
       "      <td>president</td>\n",
       "      <td>14.033587</td>\n",
       "    </tr>\n",
       "    <tr>\n",
       "      <th>395687</th>\n",
       "      <td>9.386955</td>\n",
       "      <td>presidential</td>\n",
       "      <td>4.693478</td>\n",
       "    </tr>\n",
       "    <tr>\n",
       "      <th>233792</th>\n",
       "      <td>8.493580</td>\n",
       "      <td>he</td>\n",
       "      <td>13.347054</td>\n",
       "    </tr>\n",
       "    <tr>\n",
       "      <th>466834</th>\n",
       "      <td>8.473201</td>\n",
       "      <td>states</td>\n",
       "      <td>2.824400</td>\n",
       "    </tr>\n",
       "    <tr>\n",
       "      <th>25315</th>\n",
       "      <td>8.107041</td>\n",
       "      <td>2011</td>\n",
       "      <td>5.404694</td>\n",
       "    </tr>\n",
       "  </tbody>\n",
       "</table>\n",
       "</div>"
      ],
      "text/plain": [
       "        tf-idf_Obama          word  tf-idf_Schiliro\n",
       "358582     52.295653         obama        11.621256\n",
       "488178     40.004063           the        10.001016\n",
       "251924     30.028962            in         5.004827\n",
       "58917      21.015648           and         6.004471\n",
       "292533     20.722936           law        10.361468\n",
       "360093     18.074811            of         9.037406\n",
       "155950     16.410689    democratic         8.205344\n",
       "494571     14.657229            to         7.328615\n",
       "239289     13.888726           his         1.262611\n",
       "442624     13.164288        senate         4.388096\n",
       "395624     11.226869     president        14.033587\n",
       "395687      9.386955  presidential         4.693478\n",
       "233792      8.493580            he        13.347054\n",
       "466834      8.473201        states         2.824400\n",
       "25315       8.107041          2011         5.404694"
      ]
     },
     "execution_count": 18,
     "metadata": {},
     "output_type": "execute_result"
    }
   ],
   "source": [
    "obama_tf_idf = top_words_tf_idf('Barack Obama')\n",
    "schiliro_tf_idf = top_words_tf_idf('Phil Schiliro')\n",
    "common_words = obama_tf_idf.join(schiliro_tf_idf.set_index('word'), on='word', how='inner', lsuffix=\"_Obama\", rsuffix=\"_Schiliro\")\n",
    "common_words = common_words[(common_words['tf-idf_Obama'] > 0) & (common_words['tf-idf_Schiliro'] > 0)]\n",
    "common_words.sort_values(by=['tf-idf_Obama'], ascending=[False]).head(15)"
   ]
  },
  {
   "cell_type": "markdown",
   "metadata": {},
   "source": [
    "**c)** Among the words that appear in both Barack Obama and Phil Schiliro, take the 15 that have largest weights in Obama. How many of the articles in the Wikipedia dataset contain all of those 15 words? Which are they?"
   ]
  },
  {
   "cell_type": "code",
   "execution_count": 19,
   "metadata": {},
   "outputs": [
    {
     "data": {
      "text/plain": [
       "3"
      ]
     },
     "execution_count": 19,
     "metadata": {},
     "output_type": "execute_result"
    }
   ],
   "source": [
    "# It might be helpful to use:\n",
    "word_to_ind={v: i for i, v in enumerate(vectorizer.get_feature_names())} # a dictionary with words as keys and indices as values\n",
    "\n",
    "common_words = obama_tf_idf.join(schiliro_tf_idf.set_index('word'), on='word', how='inner', lsuffix=\"_Obama\", rsuffix=\"_Schiliro\")\n",
    "common_words = common_words[(common_words['tf-idf_Obama'] > 0) & (common_words['tf-idf_Schiliro'] > 0)]\n",
    "words = common_words.sort_values(by='tf-idf_Obama', ascending=False).head(15)['word']\n",
    "indices = [word_to_ind.get(w) for w in words]\n",
    "\n",
    "articles = None\n",
    "for idx in indices:\n",
    "    if articles is None :\n",
    "        articles = (vec[:, idx] > 0).A\n",
    "        continue\n",
    "    articles = ( vec[:, idx] > 0 ).A & articles\n",
    "    \n",
    "articles.sum()"
   ]
  },
  {
   "cell_type": "code",
   "execution_count": 20,
   "metadata": {},
   "outputs": [
    {
     "data": {
      "text/plain": [
       "7914     Phil Schiliro\n",
       "24478        Joe Biden\n",
       "35817     Barack Obama\n",
       "Name: name, dtype: object"
      ]
     },
     "execution_count": 20,
     "metadata": {},
     "output_type": "execute_result"
    }
   ],
   "source": [
    "wiki[articles]['name']"
   ]
  },
  {
   "cell_type": "markdown",
   "metadata": {},
   "source": [
    "Notice the huge difference in this calculation using TF-IDF scores instead  of raw word counts. We've eliminated noise arising from extremely common words."
   ]
  },
  {
   "cell_type": "markdown",
   "metadata": {},
   "source": [
    "## Ex. 4: Choosing metrics"
   ]
  },
  {
   "cell_type": "markdown",
   "metadata": {},
   "source": [
    "**a)** Compute the Euclidean distance between TF-IDF features of Obama and Biden."
   ]
  },
  {
   "cell_type": "code",
   "execution_count": 21,
   "metadata": {},
   "outputs": [
    {
     "data": {
      "text/plain": [
       "array([[148.77845413]])"
      ]
     },
     "execution_count": 21,
     "metadata": {},
     "output_type": "execute_result"
    }
   ],
   "source": [
    "obama = TFIDFmatrix[wiki.loc[wiki['name']=='Barack Obama'].index]\n",
    "biden = TFIDFmatrix[wiki.loc[wiki['name']=='Joe Biden'].index]\n",
    "\n",
    "pairwise_distances(obama, biden)"
   ]
  },
  {
   "cell_type": "markdown",
   "metadata": {},
   "source": [
    "The distance is larger than the distances we found for the 10 nearest neighbors, which we repeat here for readability:"
   ]
  },
  {
   "cell_type": "code",
   "execution_count": 22,
   "metadata": {
    "jupyter": {
     "outputs_hidden": false
    }
   },
   "outputs": [
    {
     "data": {
      "text/html": [
       "<div>\n",
       "<style scoped>\n",
       "    .dataframe tbody tr th:only-of-type {\n",
       "        vertical-align: middle;\n",
       "    }\n",
       "\n",
       "    .dataframe tbody tr th {\n",
       "        vertical-align: top;\n",
       "    }\n",
       "\n",
       "    .dataframe thead th {\n",
       "        text-align: right;\n",
       "    }\n",
       "</style>\n",
       "<table border=\"1\" class=\"dataframe\">\n",
       "  <thead>\n",
       "    <tr style=\"text-align: right;\">\n",
       "      <th></th>\n",
       "      <th>name</th>\n",
       "      <th>BO-eucl-TF-IDF</th>\n",
       "    </tr>\n",
       "  </thead>\n",
       "  <tbody>\n",
       "    <tr>\n",
       "      <th>35817</th>\n",
       "      <td>Barack Obama</td>\n",
       "      <td>0.000000</td>\n",
       "    </tr>\n",
       "    <tr>\n",
       "      <th>38376</th>\n",
       "      <td>Samantha Power</td>\n",
       "      <td>139.364493</td>\n",
       "    </tr>\n",
       "    <tr>\n",
       "      <th>46811</th>\n",
       "      <td>Jeff Sessions</td>\n",
       "      <td>139.757740</td>\n",
       "    </tr>\n",
       "    <tr>\n",
       "      <th>7914</th>\n",
       "      <td>Phil Schiliro</td>\n",
       "      <td>139.812175</td>\n",
       "    </tr>\n",
       "    <tr>\n",
       "      <th>38714</th>\n",
       "      <td>Eric Stern (politician)</td>\n",
       "      <td>140.450064</td>\n",
       "    </tr>\n",
       "    <tr>\n",
       "      <th>6507</th>\n",
       "      <td>Bob Menendez</td>\n",
       "      <td>141.661111</td>\n",
       "    </tr>\n",
       "    <tr>\n",
       "      <th>44681</th>\n",
       "      <td>Jesse Lee (politician)</td>\n",
       "      <td>142.342440</td>\n",
       "    </tr>\n",
       "    <tr>\n",
       "      <th>6796</th>\n",
       "      <td>Eric Holder</td>\n",
       "      <td>142.490179</td>\n",
       "    </tr>\n",
       "    <tr>\n",
       "      <th>38495</th>\n",
       "      <td>Barney Frank</td>\n",
       "      <td>142.581337</td>\n",
       "    </tr>\n",
       "    <tr>\n",
       "      <th>56008</th>\n",
       "      <td>Nathan Cullen</td>\n",
       "      <td>142.751073</td>\n",
       "    </tr>\n",
       "  </tbody>\n",
       "</table>\n",
       "</div>"
      ],
      "text/plain": [
       "                          name  BO-eucl-TF-IDF\n",
       "35817             Barack Obama        0.000000\n",
       "38376           Samantha Power      139.364493\n",
       "46811            Jeff Sessions      139.757740\n",
       "7914             Phil Schiliro      139.812175\n",
       "38714  Eric Stern (politician)      140.450064\n",
       "6507              Bob Menendez      141.661111\n",
       "44681   Jesse Lee (politician)      142.342440\n",
       "6796               Eric Holder      142.490179\n",
       "38495             Barney Frank      142.581337\n",
       "56008            Nathan Cullen      142.751073"
      ]
     },
     "execution_count": 22,
     "metadata": {},
     "output_type": "execute_result"
    }
   ],
   "source": [
    "wiki.sort_values(by='BO-eucl-TF-IDF',ascending=True)[['name','BO-eucl-TF-IDF']][0:10]"
   ]
  },
  {
   "cell_type": "markdown",
   "metadata": {},
   "source": [
    "But one may wonder, is Biden's article that different from Obama's, more so than, say, Schiliro's? It turns out that, when we compute nearest neighbors using the Euclidean distances, we unwittingly favor short articles over long ones."
   ]
  },
  {
   "cell_type": "markdown",
   "metadata": {},
   "source": [
    "**b)** Let us compute the length of each Wikipedia document, and examine the document lengths for the 100 nearest neighbors to Obama's page. To compute text length use the same splitting rules you used in `vectorizer`."
   ]
  },
  {
   "cell_type": "code",
   "execution_count": 23,
   "metadata": {
    "jupyter": {
     "outputs_hidden": false
    }
   },
   "outputs": [],
   "source": [
    "tokenizer = vectorizer.build_tokenizer()\n",
    "\n",
    "def compute_length(row):\n",
    "# Here we could use simply:\n",
    "#     return len(row['text'].split(' '))\n",
    "    return len(tokenizer(row['text']))\n",
    "\n",
    "wiki['length'] = wiki.apply(compute_length, axis=1)"
   ]
  },
  {
   "cell_type": "code",
   "execution_count": 24,
   "metadata": {
    "jupyter": {
     "outputs_hidden": false
    }
   },
   "outputs": [
    {
     "data": {
      "text/html": [
       "<div>\n",
       "<style scoped>\n",
       "    .dataframe tbody tr th:only-of-type {\n",
       "        vertical-align: middle;\n",
       "    }\n",
       "\n",
       "    .dataframe tbody tr th {\n",
       "        vertical-align: top;\n",
       "    }\n",
       "\n",
       "    .dataframe thead th {\n",
       "        text-align: right;\n",
       "    }\n",
       "</style>\n",
       "<table border=\"1\" class=\"dataframe\">\n",
       "  <thead>\n",
       "    <tr style=\"text-align: right;\">\n",
       "      <th></th>\n",
       "      <th>name</th>\n",
       "      <th>BO-eucl-TF-IDF</th>\n",
       "      <th>length</th>\n",
       "    </tr>\n",
       "  </thead>\n",
       "  <tbody>\n",
       "    <tr>\n",
       "      <th>35817</th>\n",
       "      <td>Barack Obama</td>\n",
       "      <td>0.000000</td>\n",
       "      <td>540</td>\n",
       "    </tr>\n",
       "    <tr>\n",
       "      <th>38376</th>\n",
       "      <td>Samantha Power</td>\n",
       "      <td>139.364493</td>\n",
       "      <td>310</td>\n",
       "    </tr>\n",
       "    <tr>\n",
       "      <th>46811</th>\n",
       "      <td>Jeff Sessions</td>\n",
       "      <td>139.757740</td>\n",
       "      <td>230</td>\n",
       "    </tr>\n",
       "    <tr>\n",
       "      <th>7914</th>\n",
       "      <td>Phil Schiliro</td>\n",
       "      <td>139.812175</td>\n",
       "      <td>208</td>\n",
       "    </tr>\n",
       "    <tr>\n",
       "      <th>38714</th>\n",
       "      <td>Eric Stern (politician)</td>\n",
       "      <td>140.450064</td>\n",
       "      <td>255</td>\n",
       "    </tr>\n",
       "    <tr>\n",
       "      <th>...</th>\n",
       "      <td>...</td>\n",
       "      <td>...</td>\n",
       "      <td>...</td>\n",
       "    </tr>\n",
       "    <tr>\n",
       "      <th>17589</th>\n",
       "      <td>Mohamed Sillah</td>\n",
       "      <td>763.523987</td>\n",
       "      <td>1624</td>\n",
       "    </tr>\n",
       "    <tr>\n",
       "      <th>18032</th>\n",
       "      <td>Akhtar Mohiuddin</td>\n",
       "      <td>867.740533</td>\n",
       "      <td>2476</td>\n",
       "    </tr>\n",
       "    <tr>\n",
       "      <th>40208</th>\n",
       "      <td>Kcho</td>\n",
       "      <td>1173.683128</td>\n",
       "      <td>5351</td>\n",
       "    </tr>\n",
       "    <tr>\n",
       "      <th>1681</th>\n",
       "      <td>Abe Gupta</td>\n",
       "      <td>1375.468452</td>\n",
       "      <td>4474</td>\n",
       "    </tr>\n",
       "    <tr>\n",
       "      <th>8806</th>\n",
       "      <td>Sadamu Uriu</td>\n",
       "      <td>1744.144727</td>\n",
       "      <td>2814</td>\n",
       "    </tr>\n",
       "  </tbody>\n",
       "</table>\n",
       "<p>59071 rows × 3 columns</p>\n",
       "</div>"
      ],
      "text/plain": [
       "                          name  BO-eucl-TF-IDF  length\n",
       "35817             Barack Obama        0.000000     540\n",
       "38376           Samantha Power      139.364493     310\n",
       "46811            Jeff Sessions      139.757740     230\n",
       "7914             Phil Schiliro      139.812175     208\n",
       "38714  Eric Stern (politician)      140.450064     255\n",
       "...                        ...             ...     ...\n",
       "17589           Mohamed Sillah      763.523987    1624\n",
       "18032         Akhtar Mohiuddin      867.740533    2476\n",
       "40208                     Kcho     1173.683128    5351\n",
       "1681                 Abe Gupta     1375.468452    4474\n",
       "8806               Sadamu Uriu     1744.144727    2814\n",
       "\n",
       "[59071 rows x 3 columns]"
      ]
     },
     "execution_count": 24,
     "metadata": {},
     "output_type": "execute_result"
    }
   ],
   "source": [
    "nearest_neighbors_euclidean = wiki.sort_values(by='BO-eucl-TF-IDF',ascending=True)[['name','BO-eucl-TF-IDF', 'length']]\n",
    "nearest_neighbors_euclidean"
   ]
  },
  {
   "cell_type": "markdown",
   "metadata": {},
   "source": [
    "**c)** To see how these document lengths compare to the lengths of other documents in the corpus, make a histogram of the document lengths of Obama's 100 nearest neighbors and compare to a histogram of document lengths for all documents."
   ]
  },
  {
   "cell_type": "code",
   "execution_count": 25,
   "metadata": {},
   "outputs": [
    {
     "data": {
      "text/plain": [
       "35817     540\n",
       "38376     310\n",
       "46811     230\n",
       "7914      208\n",
       "38714     255\n",
       "         ... \n",
       "17589    1624\n",
       "18032    2476\n",
       "40208    5351\n",
       "1681     4474\n",
       "8806     2814\n",
       "Name: length, Length: 59071, dtype: int64"
      ]
     },
     "execution_count": 25,
     "metadata": {},
     "output_type": "execute_result"
    }
   ],
   "source": [
    "nearest_neighbors_euclidean['length']"
   ]
  },
  {
   "cell_type": "code",
   "execution_count": 26,
   "metadata": {
    "jupyter": {
     "outputs_hidden": false
    }
   },
   "outputs": [
    {
     "data": {
      "image/png": "[encoded data removed]",
      "text/plain": [
       "<Figure size 756x324 with 1 Axes>"
      ]
     },
     "metadata": {
      "needs_background": "light"
     },
     "output_type": "display_data"
    }
   ],
   "source": [
    "less_than_1000 = nearest_neighbors_euclidean[nearest_neighbors_euclidean['length'] <=1000]\n",
    "less_than_1000 = less_than_1000[~(less_than_1000.index.isin(nearest_neighbors_euclidean[:100]))]\n",
    "\n",
    "plt.figure(figsize=(10.5,4.5))\n",
    "plt.hist(nearest_neighbors_euclidean[:100]['length'], \n",
    "         alpha=0.5, bins=100, label=\"100 closest neighbors\", \n",
    "         weights=np.ones(len(nearest_neighbors_euclidean[:100])) / len(nearest_neighbors_euclidean[:100])\n",
    ")\n",
    "\n",
    "plt.hist(less_than_1000['length'], \n",
    "         alpha=0.5, bins=100, label=\"all the other articles with length <=1000\", \n",
    "         weights=np.ones(len(less_than_1000)) / len(less_than_1000)\n",
    ")\n",
    "biden_id = wiki[wiki['name'] == 'Joe Biden'].index\n",
    "plt.axvline(nearest_neighbors_euclidean.iloc[35817]['length'], c='g', label=\"Barack Obama\")\n",
    "plt.axvline(nearest_neighbors_euclidean.iloc[biden_id[0]]['length'], c='r', label=\"Joe Biden\")\n",
    "\n",
    "plt.legend(loc='upper right',\n",
    "          fancybox=True, shadow=True, prop={'size': 16})\n",
    "\n",
    "plt.tight_layout()"
   ]
  },
  {
   "cell_type": "markdown",
   "metadata": {},
   "source": [
    "Relative to the rest of Wikipedia, nearest neighbors of Obama are overwhemingly short, most of them being shorter than 300 words. The bias towards short articles is not appropriate in this application as there is really no reason to  favor short articles over long articles (they are all Wikipedia articles, after all). Many of the Wikipedia articles are 300 words or more, and both Obama and Biden are over 300 words long.\n",
    "\n",
    "**Note**: For the interest of computation time, the dataset given here contains _excerpts_ of the articles rather than full text. For instance, the actual Wikipedia article about Obama is around 25000 words. Do not be surprised by the low numbers shown in the histogram."
   ]
  },
  {
   "cell_type": "markdown",
   "metadata": {},
   "source": [
    "**Note:** Both word-count features and TF-IDF are proportional to word frequencies. While TF-IDF penalizes very common words, longer articles tend to have longer TF-IDF vectors simply because they have more words in them."
   ]
  },
  {
   "cell_type": "markdown",
   "metadata": {},
   "source": [
    "To remove this bias, we turn to **cosine distances**:\n",
    "$$\n",
    "d(\\mathbf{x},\\mathbf{y}) = 1 - \\frac{\\mathbf{x}^T\\mathbf{y}}{\\|\\mathbf{x}\\| \\|\\mathbf{y}\\|}\n",
    "$$\n",
    "Cosine distances let us compare word distributions of two articles of varying lengths."
   ]
  },
  {
   "cell_type": "markdown",
   "metadata": {},
   "source": [
    "**d)** Train a new nearest neighbor model, this time with cosine distances.  Then repeat the search for Obama's 100 nearest neighbors and make a plot to better visualize the effect of having used cosine distance in place of Euclidean on our TF-IDF vectors."
   ]
  },
  {
   "cell_type": "code",
   "execution_count": 27,
   "metadata": {
    "jupyter": {
     "outputs_hidden": false
    }
   },
   "outputs": [],
   "source": [
    "arr = TFIDFmatrix[wiki.loc[wiki['name']=='Barack Obama'].index]\n",
    "dist = pairwise_distances(TFIDFmatrix, arr, metric='cosine')\n",
    "wiki['BO-cos-TF-IDF'] = dist\n",
    "nearest_neighbors_cosine = wiki[['name', 'length', 'BO-cos-TF-IDF']]\n",
    "nearest_neighbors_cosine = nearest_neighbors_cosine.sort_values(by='BO-cos-TF-IDF', ascending=True)"
   ]
  },
  {
   "cell_type": "markdown",
   "metadata": {},
   "source": [
    "From a glance at the above table, things look better.  For example, we now see Joe Biden as Barack Obama's nearest neighbor!  We also see Hillary Clinton on the list.  This list looks even more plausible as nearest neighbors of Barack Obama."
   ]
  },
  {
   "cell_type": "code",
   "execution_count": 28,
   "metadata": {
    "jupyter": {
     "outputs_hidden": false
    }
   },
   "outputs": [
    {
     "data": {
      "image/png": "[encoded data removed]",
      "text/plain": [
       "<Figure size 756x324 with 1 Axes>"
      ]
     },
     "metadata": {
      "needs_background": "light"
     },
     "output_type": "display_data"
    }
   ],
   "source": [
    "less_than_1000 = nearest_neighbors_cosine[nearest_neighbors_cosine['length'] <=1000]\n",
    "less_than_1000 = less_than_1000[~(less_than_1000.index.isin(nearest_neighbors_cosine[:100]))]\n",
    "\n",
    "plt.figure(figsize=(10.5,4.5))\n",
    "plt.hist(nearest_neighbors_cosine[:100]['length'], \n",
    "         alpha=0.5, bins=100, label=\"100 closest neighbors\", \n",
    "         weights=np.ones(len(nearest_neighbors_cosine[:100])) / len(nearest_neighbors_cosine[:100])\n",
    ")\n",
    "\n",
    "plt.hist(less_than_1000['length'], \n",
    "         alpha=0.5, bins=100, label=\"all the other articles with length <=1000\", \n",
    "         weights=np.ones(len(less_than_1000)) / len(less_than_1000)\n",
    ")\n",
    "biden_id = wiki[wiki['name'] == 'Joe Biden'].index\n",
    "plt.axvline(nearest_neighbors_cosine.iloc[35817]['length'], c='g', label=\"Barack Obama\")\n",
    "plt.axvline(nearest_neighbors_cosine.iloc[biden_id[0]]['length'], c='r', label=\"Joe Biden\")\n",
    "\n",
    "plt.legend(loc='upper right',\n",
    "          fancybox=True, shadow=True, prop={'size': 16})\n",
    "\n",
    "plt.tight_layout()"
   ]
  },
  {
   "cell_type": "markdown",
   "metadata": {},
   "source": [
    "Indeed, the 100 nearest neighbors using cosine distance provide a sampling across the range of document lengths, rather than just short articles like Euclidean distance provided."
   ]
  },
  {
   "cell_type": "markdown",
   "metadata": {},
   "source": [
    "**Moral of the story**: In deciding the features and distance measures, check if they produce results that make sense for your particular application."
   ]
  },
  {
   "cell_type": "markdown",
   "metadata": {},
   "source": [
    "## Ex. 5: Problem with cosine distances: tweets vs. long articles"
   ]
  },
  {
   "cell_type": "markdown",
   "metadata": {},
   "source": [
    "Happily ever after? Not so fast. Cosine distances ignore all document lengths, which may be great in certain situations but not in others. For instance, consider the following (admittedly contrived) example."
   ]
  },
  {
   "cell_type": "markdown",
   "metadata": {},
   "source": [
    "```\n",
    "+--------------------------------------------------------+\n",
    "|                                             +--------+ |\n",
    "|  One that shall not be named                | Follow | |\n",
    "|  @username                                  +--------+ |\n",
    "|                                                        |\n",
    "|  Democratic governments control law in response to     |\n",
    "|  popular act.                                          |\n",
    "|                                                        |\n",
    "|  8:05 AM - 16 May 2016                                 |\n",
    "|                                                        |\n",
    "|  Reply   Retweet (1,332)   Like (300)                  |\n",
    "|                                                        |\n",
    "+--------------------------------------------------------+\n",
    "```"
   ]
  },
  {
   "cell_type": "markdown",
   "metadata": {},
   "source": [
    "**a)** Transform the tweet into TF-IDF features, using the fit to the Wikipedia dataset. (That is, let's treat this tweet as an article in our Wikipedia dataset and see what happens.) How similar is this tweet to Barack Obama's Wikipedia article? "
   ]
  },
  {
   "cell_type": "code",
   "execution_count": 29,
   "metadata": {},
   "outputs": [
    {
     "data": {
      "text/plain": [
       "matrix([[0., 0., 0., ..., 0., 0., 0.]])"
      ]
     },
     "execution_count": 29,
     "metadata": {},
     "output_type": "execute_result"
    }
   ],
   "source": [
    "from sklearn.feature_extraction.text import TfidfVectorizer\n",
    "df = pd.DataFrame({'text': ['democratic governments control law in response to popular act']})\n",
    "tfidf = TfidfVectorizer(norm=None, use_idf=True, smooth_idf=False, token_pattern=r\"(?u)\\b\\w+\\b\")\n",
    "tfidf.fit(wiki['text'])\n",
    "vec = tfidf.transform(df['text'])\n",
    "vec.todense()\n",
    "# Your code goes here"
   ]
  },
  {
   "cell_type": "markdown",
   "metadata": {},
   "source": [
    "Let's compare this tweet's TF-IDF vectors  to Barack Obama's Wikipedia entry."
   ]
  },
  {
   "cell_type": "code",
   "execution_count": 30,
   "metadata": {
    "jupyter": {
     "outputs_hidden": false
    }
   },
   "outputs": [
    {
     "data": {
      "text/plain": [
       "matrix([[0., 0., 0., ..., 0., 0., 0.]])"
      ]
     },
     "execution_count": 30,
     "metadata": {},
     "output_type": "execute_result"
    }
   ],
   "source": [
    "obama_tf_idf = TFIDFmatrix[wiki.loc[wiki['name']=='Barack Obama'].index]\n",
    "obama_tf_idf.todense()"
   ]
  },
  {
   "cell_type": "markdown",
   "metadata": {},
   "source": [
    "**b)** Now, compute the cosine distance between the Barack Obama article and this tweet:"
   ]
  },
  {
   "cell_type": "code",
   "execution_count": 31,
   "metadata": {
    "jupyter": {
     "outputs_hidden": false
    }
   },
   "outputs": [
    {
     "data": {
      "text/plain": [
       "array([[0.69866453]])"
      ]
     },
     "execution_count": 31,
     "metadata": {},
     "output_type": "execute_result"
    }
   ],
   "source": [
    "from sklearn.metrics.pairwise import cosine_distances # for one pair of samples we can just use this function\n",
    "\n",
    "cosine_distances(vec, obama_tf_idf)\n",
    "# Your code goes here"
   ]
  },
  {
   "cell_type": "markdown",
   "metadata": {},
   "source": [
    "Let's compare this distance to the distance between the Barack Obama article and all of its Wikipedia nearest neighbors:"
   ]
  },
  {
   "cell_type": "code",
   "execution_count": 32,
   "metadata": {
    "jupyter": {
     "outputs_hidden": false
    }
   },
   "outputs": [
    {
     "data": {
      "text/html": [
       "<div>\n",
       "<style scoped>\n",
       "    .dataframe tbody tr th:only-of-type {\n",
       "        vertical-align: middle;\n",
       "    }\n",
       "\n",
       "    .dataframe tbody tr th {\n",
       "        vertical-align: top;\n",
       "    }\n",
       "\n",
       "    .dataframe thead th {\n",
       "        text-align: right;\n",
       "    }\n",
       "</style>\n",
       "<table border=\"1\" class=\"dataframe\">\n",
       "  <thead>\n",
       "    <tr style=\"text-align: right;\">\n",
       "      <th></th>\n",
       "      <th>name</th>\n",
       "      <th>length</th>\n",
       "      <th>BO-cos-TF-IDF</th>\n",
       "    </tr>\n",
       "  </thead>\n",
       "  <tbody>\n",
       "    <tr>\n",
       "      <th>35817</th>\n",
       "      <td>Barack Obama</td>\n",
       "      <td>540</td>\n",
       "      <td>0.000000</td>\n",
       "    </tr>\n",
       "    <tr>\n",
       "      <th>24478</th>\n",
       "      <td>Joe Biden</td>\n",
       "      <td>414</td>\n",
       "      <td>0.572725</td>\n",
       "    </tr>\n",
       "    <tr>\n",
       "      <th>57108</th>\n",
       "      <td>Hillary Rodham Clinton</td>\n",
       "      <td>580</td>\n",
       "      <td>0.616149</td>\n",
       "    </tr>\n",
       "    <tr>\n",
       "      <th>38376</th>\n",
       "      <td>Samantha Power</td>\n",
       "      <td>310</td>\n",
       "      <td>0.625797</td>\n",
       "    </tr>\n",
       "    <tr>\n",
       "      <th>38714</th>\n",
       "      <td>Eric Stern (politician)</td>\n",
       "      <td>255</td>\n",
       "      <td>0.651475</td>\n",
       "    </tr>\n",
       "    <tr>\n",
       "      <th>28447</th>\n",
       "      <td>George W. Bush</td>\n",
       "      <td>505</td>\n",
       "      <td>0.659478</td>\n",
       "    </tr>\n",
       "    <tr>\n",
       "      <th>39357</th>\n",
       "      <td>John McCain</td>\n",
       "      <td>410</td>\n",
       "      <td>0.661645</td>\n",
       "    </tr>\n",
       "    <tr>\n",
       "      <th>48693</th>\n",
       "      <td>Artur Davis</td>\n",
       "      <td>371</td>\n",
       "      <td>0.666690</td>\n",
       "    </tr>\n",
       "    <tr>\n",
       "      <th>18827</th>\n",
       "      <td>Henry Waxman</td>\n",
       "      <td>279</td>\n",
       "      <td>0.671226</td>\n",
       "    </tr>\n",
       "    <tr>\n",
       "      <th>37199</th>\n",
       "      <td>Barry Sullivan (lawyer)</td>\n",
       "      <td>893</td>\n",
       "      <td>0.673300</td>\n",
       "    </tr>\n",
       "    <tr>\n",
       "      <th>46811</th>\n",
       "      <td>Jeff Sessions</td>\n",
       "      <td>230</td>\n",
       "      <td>0.673581</td>\n",
       "    </tr>\n",
       "    <tr>\n",
       "      <th>36452</th>\n",
       "      <td>Bill Clinton</td>\n",
       "      <td>524</td>\n",
       "      <td>0.675260</td>\n",
       "    </tr>\n",
       "    <tr>\n",
       "      <th>6796</th>\n",
       "      <td>Eric Holder</td>\n",
       "      <td>232</td>\n",
       "      <td>0.677451</td>\n",
       "    </tr>\n",
       "    <tr>\n",
       "      <th>24848</th>\n",
       "      <td>John C. Eastman</td>\n",
       "      <td>366</td>\n",
       "      <td>0.679724</td>\n",
       "    </tr>\n",
       "    <tr>\n",
       "      <th>36425</th>\n",
       "      <td>Edward B. Montgomery</td>\n",
       "      <td>331</td>\n",
       "      <td>0.681387</td>\n",
       "    </tr>\n",
       "    <tr>\n",
       "      <th>14754</th>\n",
       "      <td>Mitt Romney</td>\n",
       "      <td>502</td>\n",
       "      <td>0.681761</td>\n",
       "    </tr>\n",
       "    <tr>\n",
       "      <th>35357</th>\n",
       "      <td>Lawrence Summers</td>\n",
       "      <td>413</td>\n",
       "      <td>0.687272</td>\n",
       "    </tr>\n",
       "    <tr>\n",
       "      <th>47303</th>\n",
       "      <td>John Kerry</td>\n",
       "      <td>410</td>\n",
       "      <td>0.692701</td>\n",
       "    </tr>\n",
       "    <tr>\n",
       "      <th>34344</th>\n",
       "      <td>Mary Dawson (civil servant)</td>\n",
       "      <td>434</td>\n",
       "      <td>0.696581</td>\n",
       "    </tr>\n",
       "    <tr>\n",
       "      <th>55181</th>\n",
       "      <td>Ron Paul</td>\n",
       "      <td>427</td>\n",
       "      <td>0.696642</td>\n",
       "    </tr>\n",
       "    <tr>\n",
       "      <th>4565</th>\n",
       "      <td>Robinson O. Everett</td>\n",
       "      <td>764</td>\n",
       "      <td>0.698133</td>\n",
       "    </tr>\n",
       "    <tr>\n",
       "      <th>46140</th>\n",
       "      <td>Robert Gibbs</td>\n",
       "      <td>257</td>\n",
       "      <td>0.698549</td>\n",
       "    </tr>\n",
       "    <tr>\n",
       "      <th>52859</th>\n",
       "      <td>Ann Lewis</td>\n",
       "      <td>634</td>\n",
       "      <td>0.698799</td>\n",
       "    </tr>\n",
       "  </tbody>\n",
       "</table>\n",
       "</div>"
      ],
      "text/plain": [
       "                              name  length  BO-cos-TF-IDF\n",
       "35817                 Barack Obama     540       0.000000\n",
       "24478                    Joe Biden     414       0.572725\n",
       "57108       Hillary Rodham Clinton     580       0.616149\n",
       "38376               Samantha Power     310       0.625797\n",
       "38714      Eric Stern (politician)     255       0.651475\n",
       "28447               George W. Bush     505       0.659478\n",
       "39357                  John McCain     410       0.661645\n",
       "48693                  Artur Davis     371       0.666690\n",
       "18827                 Henry Waxman     279       0.671226\n",
       "37199      Barry Sullivan (lawyer)     893       0.673300\n",
       "46811                Jeff Sessions     230       0.673581\n",
       "36452                 Bill Clinton     524       0.675260\n",
       "6796                   Eric Holder     232       0.677451\n",
       "24848              John C. Eastman     366       0.679724\n",
       "36425         Edward B. Montgomery     331       0.681387\n",
       "14754                  Mitt Romney     502       0.681761\n",
       "35357             Lawrence Summers     413       0.687272\n",
       "47303                   John Kerry     410       0.692701\n",
       "34344  Mary Dawson (civil servant)     434       0.696581\n",
       "55181                     Ron Paul     427       0.696642\n",
       "4565           Robinson O. Everett     764       0.698133\n",
       "46140                 Robert Gibbs     257       0.698549\n",
       "52859                    Ann Lewis     634       0.698799"
      ]
     },
     "execution_count": 32,
     "metadata": {},
     "output_type": "execute_result"
    }
   ],
   "source": [
    "nearest_neighbors_cosine[0:23]"
   ]
  },
  {
   "cell_type": "markdown",
   "metadata": {},
   "source": [
    "With cosine distances, the tweet is \"nearer\" to Barack Obama than most people! If someone is reading the Barack Obama Wikipedia page, would you want to recommend they read this tweet?\n",
    "In practice, it is common to enforce maximum or minimum document lengths. After all, when someone is reading a long article from _The Atlantic_, you wouldn't recommend him/her a tweet."
   ]
  }
 ],
 "metadata": {
  "anaconda-cloud": {},
  "kernelspec": {
   "display_name": "Python 3",
   "language": "python",
   "name": "python3"
  },
  "language_info": {
   "codemirror_mode": {
    "name": "ipython",
    "version": 3
   },
   "file_extension": ".py",
   "mimetype": "text/x-python",
   "name": "python",
   "nbconvert_exporter": "python",
   "pygments_lexer": "ipython3",
   "version": "3.8.5"
  }
 },
 "nbformat": 4,
 "nbformat_minor": 4
}
